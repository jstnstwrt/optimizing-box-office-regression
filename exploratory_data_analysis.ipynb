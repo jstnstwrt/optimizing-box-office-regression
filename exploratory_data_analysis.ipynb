{
 "cells": [
  {
   "cell_type": "code",
   "execution_count": 2,
   "metadata": {
    "collapsed": true
   },
   "outputs": [],
   "source": [
    "import pickle\n",
    "import numpy as np\n",
    "import pandas as pd\n",
    "import matplotlib.pyplot as plt\n",
    "import seaborn as sns\n",
    "%matplotlib inline\n",
    "from pprint import pprint"
   ]
  },
  {
   "cell_type": "code",
   "execution_count": 4,
   "metadata": {
    "collapsed": false
   },
   "outputs": [],
   "source": [
    "full_regression_data = pickle.load( open( \"full_regression_data.pkl\", \"rb\" ) )"
   ]
  },
  {
   "cell_type": "code",
   "execution_count": 5,
   "metadata": {
    "collapsed": false
   },
   "outputs": [],
   "source": [
    "df = full_regression_data"
   ]
  },
  {
   "cell_type": "code",
   "execution_count": 527,
   "metadata": {
    "collapsed": false
   },
   "outputs": [],
   "source": [
    "df['log_num_weeks'] = df.num_weeks.apply(np.log)"
   ]
  },
  {
   "cell_type": "markdown",
   "metadata": {},
   "source": [
    "# Plot some example data"
   ]
  },
  {
   "cell_type": "code",
   "execution_count": 579,
   "metadata": {
    "collapsed": false
   },
   "outputs": [
    {
     "data": {
      "text/plain": [
       "<matplotlib.text.Text at 0x1260b4990>"
      ]
     },
     "execution_count": 579,
     "metadata": {},
     "output_type": "execute_result"
    },
    {
     "data": {
      "image/png": "[encoded data removed]",
      "text/plain": [
       "<matplotlib.figure.Figure at 0x12603f910>"
      ]
     },
     "metadata": {},
     "output_type": "display_data"
    }
   ],
   "source": [
    "plt.scatter(df.head().iloc[0].weekly_data['week_num'],\n",
    "            df.head().iloc[0].weekly_data['weekly_gross'])\n",
    "plt.ylabel('Weekly total gross')\n",
    "plt.xlabel('Week')\n",
    "plt.title('Weekly domestic gross of The A-Team')"
   ]
  },
  {
   "cell_type": "code",
   "execution_count": 578,
   "metadata": {
    "collapsed": false
   },
   "outputs": [
    {
     "data": {
      "text/plain": [
       "<matplotlib.text.Text at 0x125e57710>"
      ]
     },
     "execution_count": 578,
     "metadata": {},
     "output_type": "execute_result"
    },
    {
     "data": {
      "image/png": "[encoded data removed]",
      "text/plain": [
       "<matplotlib.figure.Figure at 0x125de1490>"
      ]
     },
     "metadata": {},
     "output_type": "display_data"
    }
   ],
   "source": [
    "plt.scatter(df.head().iloc[0].weekly_data['week_num'],\n",
    "            df.head().iloc[0].weekly_data['rank'])\n",
    "plt.ylabel('Rank')\n",
    "plt.xlabel('Week')\n",
    "plt.title('Weekly rank of The A-Team')"
   ]
  },
  {
   "cell_type": "markdown",
   "metadata": {},
   "source": [
    "# Accounting for Outliers\n",
    "\n",
    "after some inspection, i realized that there are some specific types of films stay in theatres for ever! this is unrepresentative of the phenomenon i am intending to model, a different class entirely. "
   ]
  },
  {
   "cell_type": "code",
   "execution_count": 528,
   "metadata": {
    "collapsed": true
   },
   "outputs": [],
   "source": [
    "df_normal = df[df['num_weeks']<=30]\n",
    "df_long = df[df['num_weeks']>30]"
   ]
  },
  {
   "cell_type": "code",
   "execution_count": 529,
   "metadata": {
    "collapsed": false
   },
   "outputs": [
    {
     "name": "stdout",
     "output_type": "stream",
     "text": [
      "weekly_gross1    8098264.382776\n",
      "rank1                 32.596819\n",
      "num_theaters1        928.267597\n",
      "dtype: float64\n",
      "weekly_gross1    173687.726027\n",
      "rank1                59.214286\n",
      "num_theaters1         9.486111\n",
      "dtype: float64\n"
     ]
    }
   ],
   "source": [
    "print df_normal[['weekly_gross1','rank1', 'num_theaters1']].mean()\n",
    "print df_long[['weekly_gross1','rank1', 'num_theaters1']].mean()"
   ]
  },
  {
   "cell_type": "markdown",
   "metadata": {},
   "source": [
    "# Analyzing num weeks relationship to ratings"
   ]
  },
  {
   "cell_type": "code",
   "execution_count": 358,
   "metadata": {
    "collapsed": false
   },
   "outputs": [
    {
     "data": {
      "text/plain": [
       "rating\n",
       "G                1.978074\n",
       "NC-17            2.202001\n",
       "Not Yet Rated    1.684546\n",
       "PG               1.912327\n",
       "PG-13            1.979338\n",
       "R                1.824862\n",
       "Unknown          0.895880\n",
       "Unrated          1.853833\n",
       "Name: log_num_weeks, dtype: float64"
      ]
     },
     "execution_count": 358,
     "metadata": {},
     "output_type": "execute_result"
    }
   ],
   "source": [
    "df_normal.groupby('rating').log_num_weeks.mean()"
   ]
  },
  {
   "cell_type": "markdown",
   "metadata": {},
   "source": [
    "# Adding a months feature to the df, then dummy for each month"
   ]
  },
  {
   "cell_type": "code",
   "execution_count": 530,
   "metadata": {
    "collapsed": false
   },
   "outputs": [
    {
     "name": "stderr",
     "output_type": "stream",
     "text": [
      "/Users/justinstewart/anaconda2/lib/python2.7/site-packages/ipykernel/__main__.py:1: SettingWithCopyWarning: \n",
      "A value is trying to be set on a copy of a slice from a DataFrame.\n",
      "Try using .loc[row_indexer,col_indexer] = value instead\n",
      "\n",
      "See the caveats in the documentation: http://pandas.pydata.org/pandas-docs/stable/indexing.html#indexing-view-versus-copy\n",
      "  if __name__ == '__main__':\n"
     ]
    }
   ],
   "source": [
    "df_normal['release_month'] = df_normal.release_date.apply(lambda row: row.month)"
   ]
  },
  {
   "cell_type": "code",
   "execution_count": 532,
   "metadata": {
    "collapsed": false
   },
   "outputs": [],
   "source": [
    "month_dummies = pd.get_dummies(df_normal.release_month).drop([12],axis=1)"
   ]
  },
  {
   "cell_type": "code",
   "execution_count": 533,
   "metadata": {
    "collapsed": false
   },
   "outputs": [],
   "source": [
    "month_dummies.columns = ['jan','feb','mar','apr','may','jun','jul','aug','sep','oct','nov']"
   ]
  },
  {
   "cell_type": "code",
   "execution_count": 534,
   "metadata": {
    "collapsed": false
   },
   "outputs": [],
   "source": [
    "df_normal = pd.concat([df_normal,month_dummies],axis=1)"
   ]
  },
  {
   "cell_type": "markdown",
   "metadata": {},
   "source": [
    "# low theatres count vs high theatres count = different movie types!"
   ]
  },
  {
   "cell_type": "code",
   "execution_count": 403,
   "metadata": {
    "collapsed": false
   },
   "outputs": [
    {
     "data": {
      "text/plain": [
       "weekly_gross1    15613662.956292\n",
       "rank1                   6.925908\n",
       "num_theaters1        1783.099664\n",
       "dtype: float64"
      ]
     },
     "execution_count": 403,
     "metadata": {},
     "output_type": "execute_result"
    }
   ],
   "source": [
    "df_normal[df_normal.num_theaters1 > 50][['weekly_gross1','rank1', 'num_theaters1']].mean()"
   ]
  },
  {
   "cell_type": "code",
   "execution_count": 404,
   "metadata": {
    "collapsed": false
   },
   "outputs": [
    {
     "data": {
      "text/plain": [
       "weekly_gross1    84873.360342\n",
       "rank1               61.090714\n",
       "num_theaters1        6.828113\n",
       "dtype: float64"
      ]
     },
     "execution_count": 404,
     "metadata": {},
     "output_type": "execute_result"
    }
   ],
   "source": [
    "df_normal[df_normal.num_theaters1 <= 50][['weekly_gross1','rank1', 'num_theaters1']].mean()"
   ]
  },
  {
   "cell_type": "code",
   "execution_count": 536,
   "metadata": {
    "collapsed": false
   },
   "outputs": [],
   "source": [
    "df_normal['high_theatre_count'] = np.where(df_normal.num_theaters1 > 50,'True','False')"
   ]
  },
  {
   "cell_type": "code",
   "execution_count": 537,
   "metadata": {
    "collapsed": false
   },
   "outputs": [],
   "source": [
    "theatre_dummies = pd.get_dummies(df_normal.pop('high_theatre_count'))"
   ]
  },
  {
   "cell_type": "code",
   "execution_count": 542,
   "metadata": {
    "collapsed": false
   },
   "outputs": [],
   "source": [
    "theatre_dummies['True'].columns = 'high_theatre_count'"
   ]
  },
  {
   "cell_type": "markdown",
   "metadata": {},
   "source": [
    "# Using differencess instead of raw values "
   ]
  },
  {
   "cell_type": "code",
   "execution_count": 544,
   "metadata": {
    "collapsed": false
   },
   "outputs": [],
   "source": [
    "diffs = []\n",
    "for i in range(3):\n",
    "    cols = [tuple((12*i)+np.array([8+j-1,8+j])) for j in range(1,12)]\n",
    "    for a,b in cols:\n",
    "        diffs.append(df_normal.iloc[:,b] - df_normal.iloc[:,a])\n",
    "        "
   ]
  },
  {
   "cell_type": "code",
   "execution_count": 545,
   "metadata": {
    "collapsed": false
   },
   "outputs": [],
   "source": [
    "diffs = pd.DataFrame(diffs).T"
   ]
  },
  {
   "cell_type": "code",
   "execution_count": 8,
   "metadata": {
    "collapsed": false
   },
   "outputs": [],
   "source": [
    "diff_names = ['diff_gross1',\n",
    "             'diff_gross2',\n",
    "             'diff_gross3',\n",
    "             'diff_gross4',\n",
    "             'diff_gross5',\n",
    "             'diff_gross6',\n",
    "             'diff_gross7',\n",
    "             'diff_gross8',\n",
    "             'diff_gross9',\n",
    "             'diff_gross10',\n",
    "             'diff_gross11',\n",
    "             'diff_theaters1',\n",
    "             'diff_theaters2',\n",
    "             'diff_theaters3',\n",
    "             'diff_theaters4',\n",
    "             'diff_theaters5',\n",
    "             'diff_theaters6',\n",
    "             'diff_theaters7',\n",
    "             'diff_theaters8',\n",
    "             'diff_theaters9',\n",
    "             'diff_theaters10',\n",
    "             'diff_theaters11',\n",
    "             'diff_rank1',\n",
    "             'diff_rank2',\n",
    "             'diff_rank3',\n",
    "             'diff_rank4',\n",
    "             'diff_rank5',\n",
    "             'diff_rank6',\n",
    "             'diff_rank7',\n",
    "             'diff_rank8',\n",
    "             'diff_rank9',\n",
    "             'diff_rank10',\n",
    "             'diff_rank11']"
   ]
  },
  {
   "cell_type": "code",
   "execution_count": 547,
   "metadata": {
    "collapsed": false
   },
   "outputs": [],
   "source": [
    "diffs.columns = diff_names"
   ]
  },
  {
   "cell_type": "markdown",
   "metadata": {},
   "source": [
    "# Cleaned full featured regression data"
   ]
  },
  {
   "cell_type": "code",
   "execution_count": 548,
   "metadata": {
    "collapsed": false
   },
   "outputs": [],
   "source": [
    "features = pd.concat([df_normal['num_weeks'],month_dummies,\n",
    "                            theatre_dummies['True'],diffs],axis=1)"
   ]
  },
  {
   "cell_type": "code",
   "execution_count": 549,
   "metadata": {
    "collapsed": false
   },
   "outputs": [],
   "source": [
    "features = features.rename(columns = {'True':'high_theatre_count'})"
   ]
  },
  {
   "cell_type": "code",
   "execution_count": 550,
   "metadata": {
    "collapsed": true
   },
   "outputs": [],
   "source": [
    "with open('featureset.pkl', 'wb') as output:\n",
    "    pickle.dump(features, output, pickle.HIGHEST_PROTOCOL)"
   ]
  }
 ],
 "metadata": {
  "kernelspec": {
   "display_name": "Python 2",
   "language": "python",
   "name": "python2"
  },
  "language_info": {
   "codemirror_mode": {
    "name": "ipython",
    "version": 2
   },
   "file_extension": ".py",
   "mimetype": "text/x-python",
   "name": "python",
   "nbconvert_exporter": "python",
   "pygments_lexer": "ipython2",
   "version": "2.7.11"
  }
 },
 "nbformat": 4,
 "nbformat_minor": 0
}
