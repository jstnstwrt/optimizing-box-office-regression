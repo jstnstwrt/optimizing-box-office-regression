{
 "cells": [
  {
   "cell_type": "code",
   "execution_count": 10,
   "metadata": {
    "collapsed": true
   },
   "outputs": [],
   "source": [
    "import pickle\n",
    "import numpy as np\n",
    "import pandas as pd\n",
    "import matplotlib.pyplot as plt\n",
    "%matplotlib inline"
   ]
  },
  {
   "cell_type": "code",
   "execution_count": 84,
   "metadata": {
    "collapsed": true
   },
   "outputs": [],
   "source": [
    "full_regression_data = pickle.load( open( \"full_regression_data.pkl\", \"rb\" ) )"
   ]
  },
  {
   "cell_type": "code",
   "execution_count": 85,
   "metadata": {
    "collapsed": false
   },
   "outputs": [],
   "source": [
    "df = full_regression_data"
   ]
  },
  {
   "cell_type": "code",
   "execution_count": 86,
   "metadata": {
    "collapsed": false
   },
   "outputs": [],
   "source": [
    "df['log_num_weeks'] = df.num_weeks.apply(np.log)"
   ]
  },
  {
   "cell_type": "code",
   "execution_count": 68,
   "metadata": {
    "collapsed": false
   },
   "outputs": [],
   "source": [
    "df.rename(columns={'num_weeks':'log_num_weeks'}, inplace=True)"
   ]
  },
  {
   "cell_type": "markdown",
   "metadata": {},
   "source": [
    "# analyzing num weeks relationship to ratings"
   ]
  },
  {
   "cell_type": "code",
   "execution_count": 69,
   "metadata": {
    "collapsed": false
   },
   "outputs": [
    {
     "data": {
      "text/plain": [
       "rating\n",
       "G                2.033120\n",
       "NC-17            2.202001\n",
       "Not Yet Rated    1.684546\n",
       "PG               1.922903\n",
       "PG-13            1.983267\n",
       "R                1.835047\n",
       "Unknown          0.895880\n",
       "Unrated          1.889241\n",
       "Name: log_num_weeks, dtype: float64"
      ]
     },
     "execution_count": 69,
     "metadata": {},
     "output_type": "execute_result"
    }
   ],
   "source": [
    "df.groupby('rating').log_num_weeks.mean()"
   ]
  },
  {
   "cell_type": "markdown",
   "metadata": {},
   "source": [
    "# Adding a months feature to the df, then dummy for each month"
   ]
  },
  {
   "cell_type": "code",
   "execution_count": 87,
   "metadata": {
    "collapsed": false
   },
   "outputs": [],
   "source": [
    "df['release_month'] = df.release_date.apply (lambda row: row.month)"
   ]
  },
  {
   "cell_type": "code",
   "execution_count": 71,
   "metadata": {
    "collapsed": false
   },
   "outputs": [
    {
     "data": {
      "text/plain": [
       "0     6\n",
       "1    10\n",
       "2     6\n",
       "3    11\n",
       "4     8\n",
       "Name: release_month, dtype: int64"
      ]
     },
     "execution_count": 71,
     "metadata": {},
     "output_type": "execute_result"
    }
   ],
   "source": [
    "df.release_month.head()"
   ]
  },
  {
   "cell_type": "code",
   "execution_count": 88,
   "metadata": {
    "collapsed": false
   },
   "outputs": [
    {
     "data": {
      "text/plain": [
       "release_month\n",
       "1     1.992990\n",
       "2     2.022234\n",
       "3     2.051914\n",
       "4     2.026930\n",
       "5     2.083417\n",
       "6     2.130075\n",
       "7     2.077903\n",
       "8     1.938143\n",
       "9     1.871902\n",
       "10    1.782442\n",
       "11    1.607233\n",
       "12    1.001689\n",
       "Name: log_num_weeks, dtype: float64"
      ]
     },
     "execution_count": 88,
     "metadata": {},
     "output_type": "execute_result"
    }
   ],
   "source": [
    "df.groupby('release_month').log_num_weeks.mean()"
   ]
  },
  {
   "cell_type": "code",
   "execution_count": 89,
   "metadata": {
    "collapsed": true
   },
   "outputs": [],
   "source": [
    "month_dummies = pd.get_dummies(df.release_month)"
   ]
  },
  {
   "cell_type": "code",
   "execution_count": 90,
   "metadata": {
    "collapsed": false
   },
   "outputs": [],
   "source": [
    "test = pd.concat([df,month_dummies],axis=1)"
   ]
  },
  {
   "cell_type": "code",
   "execution_count": 91,
   "metadata": {
    "collapsed": false
   },
   "outputs": [
    {
     "data": {
      "text/plain": [
       "(8143, 58)"
      ]
     },
     "execution_count": 91,
     "metadata": {},
     "output_type": "execute_result"
    }
   ],
   "source": [
    "test.shape"
   ]
  },
  {
   "cell_type": "markdown",
   "metadata": {},
   "source": [
    "# Looking at the num of weeks var"
   ]
  },
  {
   "cell_type": "code",
   "execution_count": 20,
   "metadata": {
    "collapsed": false
   },
   "outputs": [
    {
     "data": {
      "text/plain": [
       "count    8143.000000\n",
       "mean        8.781653\n",
       "std         6.568515\n",
       "min         2.000000\n",
       "25%         4.000000\n",
       "50%         7.000000\n",
       "75%        12.000000\n",
       "max        50.000000\n",
       "Name: num_weeks, dtype: float64"
      ]
     },
     "execution_count": 20,
     "metadata": {},
     "output_type": "execute_result"
    }
   ],
   "source": [
    "df.num_weeks.describe()"
   ]
  },
  {
   "cell_type": "code",
   "execution_count": 40,
   "metadata": {
    "collapsed": false
   },
   "outputs": [
    {
     "data": {
      "text/plain": [
       "<matplotlib.axes._subplots.AxesSubplot at 0x10e80c4d0>"
      ]
     },
     "execution_count": 40,
     "metadata": {},
     "output_type": "execute_result"
    },
    {
     "data": {
      "image/png": "[encoded data removed]",
      "text/plain": [
       "<matplotlib.figure.Figure at 0x10d931710>"
      ]
     },
     "metadata": {},
     "output_type": "display_data"
    }
   ],
   "source": [
    "df.log_num_weeks.hist()"
   ]
  },
  {
   "cell_type": "code",
   "execution_count": 95,
   "metadata": {
    "collapsed": false
   },
   "outputs": [
    {
     "data": {
      "text/plain": [
       "Index([u'index', u'title', u'domestic_total', u'runtime', u'rating',\n",
       "       u'release_date', u'num_weeks', u'weekly_data', u'weekly_gross1',\n",
       "       u'weekly_gross2', u'weekly_gross3', u'weekly_gross4', u'weekly_gross5',\n",
       "       u'weekly_gross6', u'weekly_gross7', u'weekly_gross8', u'weekly_gross9',\n",
       "       u'weekly_gross10', u'weekly_gross11', u'weekly_gross12',\n",
       "       u'num_theaters1', u'num_theaters2', u'num_theaters3', u'num_theaters4',\n",
       "       u'num_theaters5', u'num_theaters6', u'num_theaters7', u'num_theaters8',\n",
       "       u'num_theaters9', u'num_theaters10', u'num_theaters11',\n",
       "       u'num_theaters12', u'rank1', u'rank2', u'rank3', u'rank4', u'rank5',\n",
       "       u'rank6', u'rank7', u'rank8', u'rank9', u'rank10', u'rank11', u'rank12',\n",
       "       u'log_num_weeks', u'release_month'],\n",
       "      dtype='object')"
      ]
     },
     "execution_count": 95,
     "metadata": {},
     "output_type": "execute_result"
    }
   ],
   "source": [
    "df.columns"
   ]
  },
  {
   "cell_type": "code",
   "execution_count": 113,
   "metadata": {
    "collapsed": false
   },
   "outputs": [],
   "source": [
    "x = df.weekly_gross4[df.num_weeks>5] - df.weekly_gross3[df.num_weeks>5]"
   ]
  },
  {
   "cell_type": "code",
   "execution_count": 106,
   "metadata": {
    "collapsed": false
   },
   "outputs": [
    {
     "data": {
      "text/plain": [
       "0    2162\n",
       "1      42\n",
       "2    2830\n",
       "4      36\n",
       "5     NaN\n",
       "Name: num_theaters3, dtype: float64"
      ]
     },
     "execution_count": 106,
     "metadata": {},
     "output_type": "execute_result"
    }
   ],
   "source": [
    "df.num_theaters3[df.num_weeks>4].head()"
   ]
  },
  {
   "cell_type": "code",
   "execution_count": 114,
   "metadata": {
    "collapsed": false
   },
   "outputs": [
    {
     "data": {
      "text/plain": [
       "<matplotlib.collections.PathCollection at 0x10dbf45d0>"
      ]
     },
     "execution_count": 114,
     "metadata": {},
     "output_type": "execute_result"
    },
    {
     "data": {
      "image/png": "[encoded data removed]",
      "text/plain": [
       "<matplotlib.figure.Figure at 0x1106f1490>"
      ]
     },
     "metadata": {},
     "output_type": "display_data"
    }
   ],
   "source": [
    "plt.scatter(x,df.log_num_weeks[df.num_weeks>5])"
   ]
  },
  {
   "cell_type": "code",
   "execution_count": 115,
   "metadata": {
    "collapsed": false
   },
   "outputs": [
    {
     "data": {
      "text/plain": [
       "Index([u'index', u'title', u'domestic_total', u'runtime', u'rating',\n",
       "       u'release_date', u'num_weeks', u'weekly_data', u'weekly_gross1',\n",
       "       u'weekly_gross2', u'weekly_gross3', u'weekly_gross4', u'weekly_gross5',\n",
       "       u'weekly_gross6', u'weekly_gross7', u'weekly_gross8', u'weekly_gross9',\n",
       "       u'weekly_gross10', u'weekly_gross11', u'weekly_gross12',\n",
       "       u'num_theaters1', u'num_theaters2', u'num_theaters3', u'num_theaters4',\n",
       "       u'num_theaters5', u'num_theaters6', u'num_theaters7', u'num_theaters8',\n",
       "       u'num_theaters9', u'num_theaters10', u'num_theaters11',\n",
       "       u'num_theaters12', u'rank1', u'rank2', u'rank3', u'rank4', u'rank5',\n",
       "       u'rank6', u'rank7', u'rank8', u'rank9', u'rank10', u'rank11', u'rank12',\n",
       "       u'log_num_weeks', u'release_month'],\n",
       "      dtype='object')"
      ]
     },
     "execution_count": 115,
     "metadata": {},
     "output_type": "execute_result"
    }
   ],
   "source": [
    "df.columns"
   ]
  },
  {
   "cell_type": "code",
   "execution_count": 131,
   "metadata": {
    "collapsed": false
   },
   "outputs": [
    {
     "data": {
      "text/plain": [
       "<matplotlib.axes._subplots.AxesSubplot at 0x113aab1d0>"
      ]
     },
     "execution_count": 131,
     "metadata": {},
     "output_type": "execute_result"
    },
    {
     "data": {
      "image/png": "[encoded data removed]",
      "text/plain": [
       "<matplotlib.figure.Figure at 0x113cd53d0>"
      ]
     },
     "metadata": {},
     "output_type": "display_data"
    }
   ],
   "source": [
    "(df.rank3-df.rank1).hist()"
   ]
  },
  {
   "cell_type": "code",
   "execution_count": 163,
   "metadata": {
    "collapsed": true
   },
   "outputs": [],
   "source": [
    "r = df.rank5-df.rank1\n",
    "g = df.weekly_gross5-df.weekly_gross1\n",
    "t = df.num_theaters6-df.num_theaters2\n",
    "y = df.num_weeks\n",
    "lny = df.log_num_weeks"
   ]
  },
  {
   "cell_type": "code",
   "execution_count": 161,
   "metadata": {
    "collapsed": false
   },
   "outputs": [
    {
     "data": {
      "text/plain": [
       "<matplotlib.collections.PathCollection at 0x1165996d0>"
      ]
     },
     "execution_count": 161,
     "metadata": {},
     "output_type": "execute_result"
    },
    {
     "data": {
      "image/png": "[encoded data removed]",
      "text/plain": [
       "<matplotlib.figure.Figure at 0x11628e0d0>"
      ]
     },
     "metadata": {},
     "output_type": "display_data"
    }
   ],
   "source": [
    "plt.scatter(y,m)"
   ]
  },
  {
   "cell_type": "code",
   "execution_count": 159,
   "metadata": {
    "collapsed": false
   },
   "outputs": [],
   "source": [
    "m = df[['weekly_gross1','weekly_gross2', 'weekly_gross3']].apply(np.mean,axis=1)"
   ]
  },
  {
   "cell_type": "markdown",
   "metadata": {},
   "source": [
    "# accounting for OUTLIERS"
   ]
  },
  {
   "cell_type": "markdown",
   "metadata": {},
   "source": [
    "after some inspection, i realized that there are some specific types of films stay in theatres for ever! this is unrepresentative of the phenomenon i am intending to model, a different class entirely. "
   ]
  },
  {
   "cell_type": "code",
   "execution_count": 221,
   "metadata": {
    "collapsed": false
   },
   "outputs": [],
   "source": [
    "df_normal = df[df['num_weeks']<=30]\n",
    "\n",
    "df_long = df[df['num_weeks']>30]"
   ]
  },
  {
   "cell_type": "markdown",
   "metadata": {},
   "source": [
    "note that:"
   ]
  },
  {
   "cell_type": "code",
   "execution_count": null,
   "metadata": {
    "collapsed": true
   },
   "outputs": [],
   "source": [
    "df_normal.df_normal"
   ]
  },
  {
   "cell_type": "code",
   "execution_count": null,
   "metadata": {
    "collapsed": true
   },
   "outputs": [],
   "source": []
  },
  {
   "cell_type": "markdown",
   "metadata": {},
   "source": [
    "# theory, there are different types of films, characterized by low budget, low theatres, low opening gross"
   ]
  },
  {
   "cell_type": "code",
   "execution_count": 178,
   "metadata": {
    "collapsed": false
   },
   "outputs": [],
   "source": [
    "df_hight = df[df.num_theaters1>50]\n",
    "df_lowt = df[df.num_theaters1<=50]"
   ]
  },
  {
   "cell_type": "code",
   "execution_count": 179,
   "metadata": {
    "collapsed": false
   },
   "outputs": [
    {
     "data": {
      "text/plain": [
       "<matplotlib.axes._subplots.AxesSubplot at 0x11750b950>"
      ]
     },
     "execution_count": 179,
     "metadata": {},
     "output_type": "execute_result"
    },
    {
     "data": {
      "image/png": "[encoded data removed]",
      "text/plain": [
       "<matplotlib.figure.Figure at 0x1175227d0>"
      ]
     },
     "metadata": {},
     "output_type": "display_data"
    }
   ],
   "source": [
    "df_hight.num_theaters1.hist()"
   ]
  },
  {
   "cell_type": "markdown",
   "metadata": {},
   "source": [
    "# accounting for low theatre count and high theatre counts== different movie types!"
   ]
  },
  {
   "cell_type": "code",
   "execution_count": 241,
   "metadata": {
    "collapsed": false
   },
   "outputs": [
    {
     "data": {
      "text/plain": [
       "weekly_gross1    84873.360342\n",
       "rank1               61.090714\n",
       "num_theaters1        6.828113\n",
       "dtype: float64"
      ]
     },
     "execution_count": 241,
     "metadata": {},
     "output_type": "execute_result"
    }
   ],
   "source": [
    "df_normal[['weekly_gross1','rank1', 'num_theaters1']][df_normal.num_theaters1 <= 50].mean()\n"
   ]
  },
  {
   "cell_type": "code",
   "execution_count": 240,
   "metadata": {
    "collapsed": false
   },
   "outputs": [
    {
     "data": {
      "text/plain": [
       "weekly_gross1    15613662.956292\n",
       "rank1                   6.925908\n",
       "num_theaters1        1783.099664\n",
       "dtype: float64"
      ]
     },
     "execution_count": 240,
     "metadata": {},
     "output_type": "execute_result"
    }
   ],
   "source": [
    "df_normal[['weekly_gross1','rank1', 'num_theaters1']][df_normal.num_theaters1 > 50].mean()"
   ]
  },
  {
   "cell_type": "code",
   "execution_count": null,
   "metadata": {
    "collapsed": true
   },
   "outputs": [],
   "source": []
  }
 ],
 "metadata": {
  "kernelspec": {
   "display_name": "Python 2",
   "language": "python",
   "name": "python2"
  },
  "language_info": {
   "codemirror_mode": {
    "name": "ipython",
    "version": 2
   },
   "file_extension": ".py",
   "mimetype": "text/x-python",
   "name": "python",
   "nbconvert_exporter": "python",
   "pygments_lexer": "ipython2",
   "version": "2.7.10"
  }
 },
 "nbformat": 4,
 "nbformat_minor": 0
}
