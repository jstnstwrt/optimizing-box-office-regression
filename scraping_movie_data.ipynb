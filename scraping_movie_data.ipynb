{
 "cells": [
  {
   "cell_type": "code",
   "execution_count": 215,
   "metadata": {
    "collapsed": true
   },
   "outputs": [],
   "source": [
    "import requests\n",
    "from bs4 import BeautifulSoup\n",
    "import string\n",
    "import pickle\n",
    "import re"
   ]
  },
  {
   "cell_type": "code",
   "execution_count": 13,
   "metadata": {
    "collapsed": false
   },
   "outputs": [],
   "source": [
    "movie_urls = []"
   ]
  },
  {
   "cell_type": "code",
   "execution_count": 24,
   "metadata": {
    "collapsed": false
   },
   "outputs": [],
   "source": [
    "alphabet = list(string.ascii_lowercase)"
   ]
  },
  {
   "cell_type": "code",
   "execution_count": 144,
   "metadata": {
    "collapsed": false
   },
   "outputs": [],
   "source": [
    "base_url = 'http://www.boxofficemojo.com'\n",
    "rel_by_alphabet = '/movies/alphabetical.htm?'"
   ]
  },
  {
   "cell_type": "code",
   "execution_count": 145,
   "metadata": {
    "collapsed": true
   },
   "outputs": [],
   "source": [
    "def create_url(letter,page):\n",
    "    '''this function takes in the query params letter and page \n",
    "       and returns the full url string\n",
    "    '''\n",
    "    q_letter = 'letter=%s' % letter\n",
    "    q_page = 'page=%s' % page\n",
    "    url = base_url + rel_by_alphabet + q_letter + '&' + q_page\n",
    "    return url"
   ]
  },
  {
   "cell_type": "code",
   "execution_count": 86,
   "metadata": {
    "collapsed": false
   },
   "outputs": [],
   "source": [
    "def get_soup(url):\n",
    "    response = requests.get(url)\n",
    "    page = response.text\n",
    "\n",
    "    return BeautifulSoup(page)"
   ]
  },
  {
   "cell_type": "code",
   "execution_count": 149,
   "metadata": {
    "collapsed": false
   },
   "outputs": [],
   "source": [
    " def get_all_movie_links():\n",
    "    movie_links = []\n",
    "    for letter in alphabet:\n",
    "        page = 1\n",
    "        last_link_count = 0\n",
    "        while len(movie_links) > last_link_count or page == 1:\n",
    "            last_link_count = len(movie_links)\n",
    "            soup = get_soup(create_url(letter,page)).find('div',id='body')\n",
    "            movie_links += [m['href'] for m in soup.find_all('a') \n",
    "                 if m['href'].startswith('/movies/?id=')]\n",
    "            print letter, page \n",
    "            page += 1\n",
    "        with open('movie_links.pkl', 'wb') as output:\n",
    "            pickle.dump(movie_links, output, pickle.HIGHEST_PROTOCOL)\n",
    "    return movie_links"
   ]
  },
  {
   "cell_type": "code",
   "execution_count": 150,
   "metadata": {
    "collapsed": false
   },
   "outputs": [],
   "source": [
    "# movie_links = get_all_movie_links()"
   ]
  },
  {
   "cell_type": "code",
   "execution_count": 187,
   "metadata": {
    "collapsed": true
   },
   "outputs": [],
   "source": [
    "weekly_movie_links = [base_url+x.replace('/movies/?','/movies/?page=weekly&') for x in movie_links]"
   ]
  },
  {
   "cell_type": "code",
   "execution_count": 190,
   "metadata": {
    "collapsed": true
   },
   "outputs": [],
   "source": [
    "no_weekly = 'NO WEEKLY DATA AVAILABLE'"
   ]
  },
  {
   "cell_type": "code",
   "execution_count": 213,
   "metadata": {
    "collapsed": true
   },
   "outputs": [],
   "source": [
    "import dateutil.parser\n",
    "\n",
    "def to_date(datestring):\n",
    "    date = dateutil.parser.parse(datestring)\n",
    "    return date\n",
    "\n",
    "def money_to_int(moneystring):\n",
    "    moneystring = moneystring.replace('$', '').replace(',', '')\n",
    "    return int(moneystring)\n",
    "\n",
    "def runtime_to_minutes(runtimestring):\n",
    "    runtime = runtimestring.split()\n",
    "    try:\n",
    "        minutes = int(runtime[0])*60 + int(runtime[2])\n",
    "        return minutes\n",
    "    except:\n",
    "        return None"
   ]
  },
  {
   "cell_type": "code",
   "execution_count": 212,
   "metadata": {
    "collapsed": true
   },
   "outputs": [],
   "source": [
    "def get_movie_value(soup, field_name):\n",
    "    '''Grab a value from boxofficemojo HTML\n",
    "    \n",
    "    Takes a string attribute of a movie on the page and\n",
    "    returns the string in the next sibling object\n",
    "    (the value for that attribute)\n",
    "    or None if nothing is found.\n",
    "    '''\n",
    "    obj = soup.find(text=re.compile(field_name))\n",
    "    if not obj: \n",
    "        return None\n",
    "    # this works for most of the values\n",
    "    next_sibling = obj.findNextSibling()\n",
    "    if next_sibling:\n",
    "        return next_sibling.text \n",
    "    else:\n",
    "        return None"
   ]
  },
  {
   "cell_type": "code",
   "execution_count": 286,
   "metadata": {
    "collapsed": false
   },
   "outputs": [],
   "source": [
    "def get_weekly_dict(soup):\n",
    "    weekly_data = {}\n",
    "    names = ['week','rank','weekly_gross','change_gross','num_theaters',\n",
    "             'theaters_change','avg_gross_by_theatre','cum_gross','week_num']\n",
    "    table =  soup.find_all('table', { \"class\" : 'chart-wide'})[0]\n",
    "    table_data = [[cell.text for cell in row.find_all(\"td\")]\n",
    "                         for row in table.find_all(\"tr\")]\n",
    "    table_data = table_data[1:]\n",
    "    for i in range(1,9):\n",
    "        weekly_data[names[i]] = [str(x[i]) for x in table_data]\n",
    "    return weekly_data"
   ]
  },
  {
   "cell_type": "code",
   "execution_count": 287,
   "metadata": {
    "collapsed": false
   },
   "outputs": [],
   "source": [
    "def get_movie_attributes(soup):\n",
    "    \n",
    "    title = soup.find('title').text.split('(')[0].strip()\n",
    "    domestic_total_gross = money_to_int(get_movie_value(soup,'Domestic Total'))\n",
    "    release_date = to_date(get_movie_value(soup,'Release Date'))\n",
    "    runtime = runtime_to_minutes(get_movie_value(soup,'Runtime'))\n",
    "    rating = get_movie_value(soup,'MPAA Rating')\n",
    "    weekly_data = get_weekly_dict(soup)\n",
    "\n",
    "    headers = ['title', 'domestic_total',\n",
    "               'release_date', 'runtime', 'rating','weekly_data']\n",
    "   \n",
    "    \n",
    "\n",
    "\n",
    "    movie_dict = dict(zip(headers,[title,domestic_total_gross,\n",
    "                                   release_date,runtime,rating,weekly_data]))\n",
    "    return movie_dict"
   ]
  },
  {
   "cell_type": "code",
   "execution_count": 290,
   "metadata": {
    "collapsed": false
   },
   "outputs": [],
   "source": [
    "s = get_movie_attributes(soup)"
   ]
  },
  {
   "cell_type": "code",
   "execution_count": 292,
   "metadata": {
    "collapsed": false
   },
   "outputs": [
    {
     "name": "stdout",
     "output_type": "stream",
     "text": [
      "{'domestic_total': 175705,\n",
      " 'rating': u'PG-13',\n",
      " 'release_date': datetime.datetime(2013, 10, 4, 0, 0),\n",
      " 'runtime': 88,\n",
      " 'title': u'A.C.O.D.',\n",
      " 'weekly_data': {'avg_gross_by_theatre': ['$8,813',\n",
      "                                          '$2,717',\n",
      "                                          '$1,546',\n",
      "                                          '$1,298',\n",
      "                                          '$719'],\n",
      "                 'change_gross': ['-',\n",
      "                                  '+85.0%',\n",
      "                                  '+32.7%',\n",
      "                                  '-62.0%',\n",
      "                                  '-56.3%'],\n",
      "                 'cum_gross': ['$26,439',\n",
      "                               '$75,348',\n",
      "                               '$140,264',\n",
      "                               '$164,920',\n",
      "                               '$175,705'],\n",
      "                 'num_theaters': ['3', '18', '42', '19', '15'],\n",
      "                 'rank': ['61', '55', '47', '54', '67'],\n",
      "                 'theaters_change': ['-', '+15', '+24', '-23', '-4'],\n",
      "                 'week_num': ['1', '2', '3', '4', '5'],\n",
      "                 'weekly_gross': ['$26,439',\n",
      "                                  '$48,909',\n",
      "                                  '$64,916',\n",
      "                                  '$24,656',\n",
      "                                  '$10,785']}}\n"
     ]
    }
   ],
   "source": [
    "import pprint\n",
    "pprint.pprint(s)"
   ]
  }
 ],
 "metadata": {
  "kernelspec": {
   "display_name": "Python 2",
   "language": "python",
   "name": "python2"
  },
  "language_info": {
   "codemirror_mode": {
    "name": "ipython",
    "version": 2
   },
   "file_extension": ".py",
   "mimetype": "text/x-python",
   "name": "python",
   "nbconvert_exporter": "python",
   "pygments_lexer": "ipython2",
   "version": "2.7.10"
  }
 },
 "nbformat": 4,
 "nbformat_minor": 0
}
