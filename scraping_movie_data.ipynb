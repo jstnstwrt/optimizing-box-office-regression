{
 "cells": [
  {
   "cell_type": "code",
   "execution_count": 23,
   "metadata": {
    "collapsed": true
   },
   "outputs": [],
   "source": [
    "import requests\n",
    "from bs4 import BeautifulSoup\n",
    "import string"
   ]
  },
  {
   "cell_type": "code",
   "execution_count": 13,
   "metadata": {
    "collapsed": false
   },
   "outputs": [],
   "source": [
    "movie_urls = []"
   ]
  },
  {
   "cell_type": "code",
   "execution_count": 24,
   "metadata": {
    "collapsed": false
   },
   "outputs": [],
   "source": [
    "alphabet = list(string.ascii_lowercase)"
   ]
  },
  {
   "cell_type": "code",
   "execution_count": 19,
   "metadata": {
    "collapsed": false
   },
   "outputs": [],
   "source": [
    "base_url = 'http://www.boxofficemojo.com/movies/alphabetical.htm?'"
   ]
  },
  {
   "cell_type": "code",
   "execution_count": 20,
   "metadata": {
    "collapsed": true
   },
   "outputs": [],
   "source": [
    "def create_url(letter,page):\n",
    "    '''this function takes in the query params letter and page \n",
    "       and returns the full url string\n",
    "    '''\n",
    "    q_letter = 'letter=%s' % letter\n",
    "    q_page = 'page=%s' % page\n",
    "    url = base_url + q_letter + '&' + q_page\n",
    "    return url"
   ]
  },
  {
   "cell_type": "code",
   "execution_count": 26,
   "metadata": {
    "collapsed": false
   },
   "outputs": [
    {
     "name": "stdout",
     "output_type": "stream",
     "text": [
      "http://www.boxofficemojo.com/movies/alphabetical.htm?letter=a&page=1\n",
      "http://www.boxofficemojo.com/movies/alphabetical.htm?letter=a&page=2\n",
      "http://www.boxofficemojo.com/movies/alphabetical.htm?letter=a&page=3\n",
      "http://www.boxofficemojo.com/movies/alphabetical.htm?letter=a&page=4\n",
      "http://www.boxofficemojo.com/movies/alphabetical.htm?letter=b&page=1\n",
      "http://www.boxofficemojo.com/movies/alphabetical.htm?letter=b&page=2\n",
      "http://www.boxofficemojo.com/movies/alphabetical.htm?letter=b&page=3\n",
      "http://www.boxofficemojo.com/movies/alphabetical.htm?letter=b&page=4\n",
      "http://www.boxofficemojo.com/movies/alphabetical.htm?letter=c&page=1\n",
      "http://www.boxofficemojo.com/movies/alphabetical.htm?letter=c&page=2\n",
      "http://www.boxofficemojo.com/movies/alphabetical.htm?letter=c&page=3\n",
      "http://www.boxofficemojo.com/movies/alphabetical.htm?letter=c&page=4\n",
      "http://www.boxofficemojo.com/movies/alphabetical.htm?letter=d&page=1\n",
      "http://www.boxofficemojo.com/movies/alphabetical.htm?letter=d&page=2\n",
      "http://www.boxofficemojo.com/movies/alphabetical.htm?letter=d&page=3\n",
      "http://www.boxofficemojo.com/movies/alphabetical.htm?letter=d&page=4\n",
      "http://www.boxofficemojo.com/movies/alphabetical.htm?letter=e&page=1\n",
      "http://www.boxofficemojo.com/movies/alphabetical.htm?letter=e&page=2\n",
      "http://www.boxofficemojo.com/movies/alphabetical.htm?letter=e&page=3\n",
      "http://www.boxofficemojo.com/movies/alphabetical.htm?letter=e&page=4\n"
     ]
    }
   ],
   "source": [
    "for letter in alphabet[:5]:\n",
    "    page = 1\n",
    "    while page < 5:\n",
    "        print create_url(letter,page)\n",
    "        page += 1"
   ]
  }
 ],
 "metadata": {
  "kernelspec": {
   "display_name": "Python 2",
   "language": "python",
   "name": "python2"
  },
  "language_info": {
   "codemirror_mode": {
    "name": "ipython",
    "version": 2
   },
   "file_extension": ".py",
   "mimetype": "text/x-python",
   "name": "python",
   "nbconvert_exporter": "python",
   "pygments_lexer": "ipython2",
   "version": "2.7.10"
  }
 },
 "nbformat": 4,
 "nbformat_minor": 0
}
