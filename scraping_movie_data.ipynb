{
 "cells": [
  {
   "cell_type": "code",
   "execution_count": 215,
   "metadata": {
    "collapsed": true
   },
   "outputs": [],
   "source": [
    "import requests\n",
    "from bs4 import BeautifulSoup\n",
    "import string\n",
    "import pickle\n",
    "import re"
   ]
  },
  {
   "cell_type": "code",
   "execution_count": 13,
   "metadata": {
    "collapsed": false
   },
   "outputs": [],
   "source": [
    "movie_urls = []"
   ]
  },
  {
   "cell_type": "code",
   "execution_count": 24,
   "metadata": {
    "collapsed": false
   },
   "outputs": [],
   "source": [
    "alphabet = list(string.ascii_lowercase)"
   ]
  },
  {
   "cell_type": "code",
   "execution_count": 144,
   "metadata": {
    "collapsed": false
   },
   "outputs": [],
   "source": [
    "base_url = 'http://www.boxofficemojo.com'\n",
    "rel_by_alphabet = '/movies/alphabetical.htm?'"
   ]
  },
  {
   "cell_type": "code",
   "execution_count": 145,
   "metadata": {
    "collapsed": true
   },
   "outputs": [],
   "source": [
    "def create_url(letter,page):\n",
    "    '''this function takes in the query params letter and page \n",
    "       and returns the full url string\n",
    "    '''\n",
    "    q_letter = 'letter=%s' % letter\n",
    "    q_page = 'page=%s' % page\n",
    "    url = base_url + rel_by_alphabet + q_letter + '&' + q_page\n",
    "    return url"
   ]
  },
  {
   "cell_type": "code",
   "execution_count": 86,
   "metadata": {
    "collapsed": false
   },
   "outputs": [],
   "source": [
    "def get_soup(url):\n",
    "    response = requests.get(url)\n",
    "    page = response.text\n",
    "\n",
    "    return BeautifulSoup(page)"
   ]
  },
  {
   "cell_type": "code",
   "execution_count": 149,
   "metadata": {
    "collapsed": false
   },
   "outputs": [],
   "source": [
    " def get_all_movie_links():\n",
    "    movie_links = []\n",
    "    for letter in alphabet:\n",
    "        page = 1\n",
    "        last_link_count = 0\n",
    "        while len(movie_links) > last_link_count or page == 1:\n",
    "            last_link_count = len(movie_links)\n",
    "            soup = get_soup(create_url(letter,page)).find('div',id='body')\n",
    "            movie_links += [m['href'] for m in soup.find_all('a') \n",
    "                 if m['href'].startswith('/movies/?id=')]\n",
    "            print letter, page \n",
    "            page += 1\n",
    "        with open('movie_links.pkl', 'wb') as output:\n",
    "            pickle.dump(movie_links, output, pickle.HIGHEST_PROTOCOL)\n",
    "    return movie_links"
   ]
  },
  {
   "cell_type": "code",
   "execution_count": 150,
   "metadata": {
    "collapsed": false
   },
   "outputs": [],
   "source": [
    "# movie_links = get_all_movie_links()"
   ]
  },
  {
   "cell_type": "code",
   "execution_count": 187,
   "metadata": {
    "collapsed": true
   },
   "outputs": [],
   "source": [
    "weekly_movie_links = [base_url+x.replace('/movies/?','/movies/?page=weekly&') for x in movie_links]"
   ]
  },
  {
   "cell_type": "code",
   "execution_count": 190,
   "metadata": {
    "collapsed": true
   },
   "outputs": [],
   "source": [
    "no_weekly = 'NO WEEKLY DATA AVAILABLE'"
   ]
  },
  {
   "cell_type": "code",
   "execution_count": 196,
   "metadata": {
    "collapsed": false
   },
   "outputs": [
    {
     "name": "stdout",
     "output_type": "stream",
     "text": [
      "yup\n"
     ]
    }
   ],
   "source": [
    "soup = get_soup(weekly_movie_links[1])\n",
    "# if not soup.find(text=no_weekly):\n",
    "#     print 'yup'\n",
    "# else:\n",
    "#     print 'no weekly'\n"
   ]
  },
  {
   "cell_type": "code",
   "execution_count": 213,
   "metadata": {
    "collapsed": true
   },
   "outputs": [],
   "source": [
    "import dateutil.parser\n",
    "\n",
    "def to_date(datestring):\n",
    "    date = dateutil.parser.parse(datestring)\n",
    "    return date\n",
    "\n",
    "def money_to_int(moneystring):\n",
    "    moneystring = moneystring.replace('$', '').replace(',', '')\n",
    "    return int(moneystring)\n",
    "\n",
    "def runtime_to_minutes(runtimestring):\n",
    "    runtime = runtimestring.split()\n",
    "    try:\n",
    "        minutes = int(runtime[0])*60 + int(runtime[2])\n",
    "        return minutes\n",
    "    except:\n",
    "        return None"
   ]
  },
  {
   "cell_type": "code",
   "execution_count": 212,
   "metadata": {
    "collapsed": true
   },
   "outputs": [],
   "source": [
    "def get_movie_value(soup, field_name):\n",
    "    '''Grab a value from boxofficemojo HTML\n",
    "    \n",
    "    Takes a string attribute of a movie on the page and\n",
    "    returns the string in the next sibling object\n",
    "    (the value for that attribute)\n",
    "    or None if nothing is found.\n",
    "    '''\n",
    "    obj = soup.find(text=re.compile(field_name))\n",
    "    if not obj: \n",
    "        return None\n",
    "    # this works for most of the values\n",
    "    next_sibling = obj.findNextSibling()\n",
    "    if next_sibling:\n",
    "        return next_sibling.text \n",
    "    else:\n",
    "        return None"
   ]
  },
  {
   "cell_type": "code",
   "execution_count": 216,
   "metadata": {
    "collapsed": false
   },
   "outputs": [],
   "source": [
    "get_movie_attributes(soup):\n",
    "    \n",
    "    title = soup.find('title').text.split('(')[0].strip()\n",
    "    domestic_total_gross = money_to_int(get_movie_value(soup,'Domestic Total'))\n",
    "    release_date = to_date(get_movie_value(soup,'Release Date'))\n",
    "    runtime = runtime_to_minutes(get_movie_value(soup,'Runtime'))\n",
    "    rating = get_movie_value(soup,'MPAA Rating')\n",
    "\n",
    "    headers = ['title', 'domestic_total',\n",
    "               'release_date', 'runtime', 'rating']\n",
    "\n",
    "    movie_dict = dict(zip(headers, [title,\n",
    "                                domestic_total_gross,\n",
    "                                release_date,\n",
    "                                runtime,\n",
    "                                rating]))\n",
    "    retu"
   ]
  },
  {
   "cell_type": "code",
   "execution_count": 217,
   "metadata": {
    "collapsed": false
   },
   "outputs": [
    {
     "data": {
      "text/plain": [
       "{'domestic_total': 175705,\n",
       " 'rating': u'PG-13',\n",
       " 'release_date': datetime.datetime(2013, 10, 4, 0, 0),\n",
       " 'runtime': 88,\n",
       " 'title': u'A.C.O.D.'}"
      ]
     },
     "execution_count": 217,
     "metadata": {},
     "output_type": "execute_result"
    }
   ],
   "source": [
    "movie_dict"
   ]
  }
 ],
 "metadata": {
  "kernelspec": {
   "display_name": "Python 2",
   "language": "python",
   "name": "python2"
  },
  "language_info": {
   "codemirror_mode": {
    "name": "ipython",
    "version": 2
   },
   "file_extension": ".py",
   "mimetype": "text/x-python",
   "name": "python",
   "nbconvert_exporter": "python",
   "pygments_lexer": "ipython2",
   "version": "2.7.10"
  }
 },
 "nbformat": 4,
 "nbformat_minor": 0
}
