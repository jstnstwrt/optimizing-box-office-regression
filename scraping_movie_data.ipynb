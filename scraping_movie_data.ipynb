{
 "cells": [
  {
   "cell_type": "code",
   "execution_count": 146,
   "metadata": {
    "collapsed": true
   },
   "outputs": [],
   "source": [
    "import requests\n",
    "from bs4 import BeautifulSoup\n",
    "import string\n",
    "import pickle"
   ]
  },
  {
   "cell_type": "code",
   "execution_count": 13,
   "metadata": {
    "collapsed": false
   },
   "outputs": [],
   "source": [
    "movie_urls = []"
   ]
  },
  {
   "cell_type": "code",
   "execution_count": 24,
   "metadata": {
    "collapsed": false
   },
   "outputs": [],
   "source": [
    "alphabet = list(string.ascii_lowercase)"
   ]
  },
  {
   "cell_type": "code",
   "execution_count": 144,
   "metadata": {
    "collapsed": false
   },
   "outputs": [],
   "source": [
    "base_url = 'http://www.boxofficemojo.com'\n",
    "rel_by_alphabet = '/movies/alphabetical.htm?'"
   ]
  },
  {
   "cell_type": "code",
   "execution_count": 145,
   "metadata": {
    "collapsed": true
   },
   "outputs": [],
   "source": [
    "def create_url(letter,page):\n",
    "    '''this function takes in the query params letter and page \n",
    "       and returns the full url string\n",
    "    '''\n",
    "    q_letter = 'letter=%s' % letter\n",
    "    q_page = 'page=%s' % page\n",
    "    url = base_url + rel_by_alphabet + q_letter + '&' + q_page\n",
    "    return url"
   ]
  },
  {
   "cell_type": "code",
   "execution_count": 86,
   "metadata": {
    "collapsed": false
   },
   "outputs": [],
   "source": [
    "def get_soup(url):\n",
    "    response = requests.get(url)\n",
    "    page = response.text\n",
    "\n",
    "    return BeautifulSoup(page)"
   ]
  },
  {
   "cell_type": "code",
   "execution_count": 149,
   "metadata": {
    "collapsed": false
   },
   "outputs": [],
   "source": [
    " def get_all_movie_links():\n",
    "    movie_links = []\n",
    "    for letter in alphabet:\n",
    "        page = 1\n",
    "        last_link_count = 0\n",
    "        while len(movie_links) > last_link_count or page == 1:\n",
    "            last_link_count = len(movie_links)\n",
    "            soup = get_soup(create_url(letter,page)).find('div',id='body')\n",
    "            movie_links += [m['href'] for m in soup.find_all('a') \n",
    "                 if m['href'].startswith('/movies/?id=')]\n",
    "            print letter, page \n",
    "            page += 1\n",
    "        with open('movie_links.pkl', 'wb') as output:\n",
    "            pickle.dump(movie_links, output, pickle.HIGHEST_PROTOCOL)\n",
    "    return movie_links"
   ]
  },
  {
   "cell_type": "code",
   "execution_count": 150,
   "metadata": {
    "collapsed": false
   },
   "outputs": [],
   "source": [
    "# movie_links = get_all_movie_links()"
   ]
  }
 ],
 "metadata": {
  "kernelspec": {
   "display_name": "Python 2",
   "language": "python",
   "name": "python2"
  },
  "language_info": {
   "codemirror_mode": {
    "name": "ipython",
    "version": 2
   },
   "file_extension": ".py",
   "mimetype": "text/x-python",
   "name": "python",
   "nbconvert_exporter": "python",
   "pygments_lexer": "ipython2",
   "version": "2.7.10"
  }
 },
 "nbformat": 4,
 "nbformat_minor": 0
}
