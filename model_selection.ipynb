{
 "cells": [
  {
   "cell_type": "markdown",
   "metadata": {},
   "source": [
    "# get the data"
   ]
  },
  {
   "cell_type": "code",
   "execution_count": 273,
   "metadata": {
    "collapsed": false
   },
   "outputs": [],
   "source": [
    "import numpy as np\n",
    "import pandas as pd\n",
    "import pickle\n",
    "import matplotlib.pyplot as plt\n",
    "from sklearn.cross_validation import train_test_split\n",
    "from sklearn.cross_validation import KFold\n",
    "from sklearn import preprocessing\n",
    "from sklearn import linear_model\n",
    "from sklearn.metrics import mean_squared_error\n",
    "%matplotlib inline"
   ]
  },
  {
   "cell_type": "code",
   "execution_count": 11,
   "metadata": {
    "collapsed": false
   },
   "outputs": [],
   "source": [
    "full_regression_data = pickle.load( open( \"full_regression_data.pkl\", \"rb\" ) )"
   ]
  },
  {
   "cell_type": "markdown",
   "metadata": {},
   "source": [
    "# Feature engineering"
   ]
  },
  {
   "cell_type": "code",
   "execution_count": 301,
   "metadata": {
    "collapsed": false
   },
   "outputs": [
    {
     "data": {
      "text/html": [
       "<div>\n",
       "<table border=\"1\" class=\"dataframe\">\n",
       "  <thead>\n",
       "    <tr style=\"text-align: right;\">\n",
       "      <th></th>\n",
       "      <th>index</th>\n",
       "      <th>title</th>\n",
       "      <th>domestic_total</th>\n",
       "      <th>runtime</th>\n",
       "      <th>rating</th>\n",
       "      <th>release_date</th>\n",
       "      <th>num_weeks</th>\n",
       "      <th>weekly_data</th>\n",
       "      <th>weekly_gross1</th>\n",
       "      <th>weekly_gross2</th>\n",
       "      <th>...</th>\n",
       "      <th>rank3</th>\n",
       "      <th>rank4</th>\n",
       "      <th>rank5</th>\n",
       "      <th>rank6</th>\n",
       "      <th>rank7</th>\n",
       "      <th>rank8</th>\n",
       "      <th>rank9</th>\n",
       "      <th>rank10</th>\n",
       "      <th>rank11</th>\n",
       "      <th>rank12</th>\n",
       "    </tr>\n",
       "  </thead>\n",
       "  <tbody>\n",
       "    <tr>\n",
       "      <th>0</th>\n",
       "      <td>0</td>\n",
       "      <td>The A-Team</td>\n",
       "      <td>77222099</td>\n",
       "      <td>117</td>\n",
       "      <td>PG-13</td>\n",
       "      <td>2010-06-11</td>\n",
       "      <td>14</td>\n",
       "      <td>{u'weekly_gross': [36022270, 20820708, 9247972...</td>\n",
       "      <td>36022270</td>\n",
       "      <td>20820708</td>\n",
       "      <td>...</td>\n",
       "      <td>7</td>\n",
       "      <td>7</td>\n",
       "      <td>10</td>\n",
       "      <td>15</td>\n",
       "      <td>20</td>\n",
       "      <td>22</td>\n",
       "      <td>28</td>\n",
       "      <td>32</td>\n",
       "      <td>38</td>\n",
       "      <td>45</td>\n",
       "    </tr>\n",
       "    <tr>\n",
       "      <th>1</th>\n",
       "      <td>1</td>\n",
       "      <td>A.C.O.D.</td>\n",
       "      <td>175705</td>\n",
       "      <td>88</td>\n",
       "      <td>PG-13</td>\n",
       "      <td>2013-10-04</td>\n",
       "      <td>5</td>\n",
       "      <td>{u'weekly_gross': [26439, 48909, 64916, 24656,...</td>\n",
       "      <td>26439</td>\n",
       "      <td>48909</td>\n",
       "      <td>...</td>\n",
       "      <td>47</td>\n",
       "      <td>54</td>\n",
       "      <td>67</td>\n",
       "      <td>NaN</td>\n",
       "      <td>NaN</td>\n",
       "      <td>NaN</td>\n",
       "      <td>NaN</td>\n",
       "      <td>NaN</td>\n",
       "      <td>NaN</td>\n",
       "      <td>NaN</td>\n",
       "    </tr>\n",
       "    <tr>\n",
       "      <th>2</th>\n",
       "      <td>2</td>\n",
       "      <td>A.I. Artificial Intelligence</td>\n",
       "      <td>78616689</td>\n",
       "      <td>145</td>\n",
       "      <td>PG-13</td>\n",
       "      <td>2001-06-29</td>\n",
       "      <td>11</td>\n",
       "      <td>{u'weekly_gross': [45535716, 19346848, 7471014...</td>\n",
       "      <td>45535716</td>\n",
       "      <td>19346848</td>\n",
       "      <td>...</td>\n",
       "      <td>10</td>\n",
       "      <td>12</td>\n",
       "      <td>15</td>\n",
       "      <td>20</td>\n",
       "      <td>37</td>\n",
       "      <td>43</td>\n",
       "      <td>55</td>\n",
       "      <td>38</td>\n",
       "      <td>41</td>\n",
       "      <td>NaN</td>\n",
       "    </tr>\n",
       "    <tr>\n",
       "      <th>3</th>\n",
       "      <td>3</td>\n",
       "      <td>Aaja Nachle</td>\n",
       "      <td>484108</td>\n",
       "      <td>145</td>\n",
       "      <td>Unrated</td>\n",
       "      <td>2007-11-30</td>\n",
       "      <td>3</td>\n",
       "      <td>{u'weekly_gross': [310893, 132908, 40307], u'n...</td>\n",
       "      <td>310893</td>\n",
       "      <td>132908</td>\n",
       "      <td>...</td>\n",
       "      <td>48</td>\n",
       "      <td>NaN</td>\n",
       "      <td>NaN</td>\n",
       "      <td>NaN</td>\n",
       "      <td>NaN</td>\n",
       "      <td>NaN</td>\n",
       "      <td>NaN</td>\n",
       "      <td>NaN</td>\n",
       "      <td>NaN</td>\n",
       "      <td>NaN</td>\n",
       "    </tr>\n",
       "    <tr>\n",
       "      <th>4</th>\n",
       "      <td>4</td>\n",
       "      <td>Aarakshan</td>\n",
       "      <td>651096</td>\n",
       "      <td>NaN</td>\n",
       "      <td>Unrated</td>\n",
       "      <td>2011-08-12</td>\n",
       "      <td>6</td>\n",
       "      <td>{u'weekly_gross': [440710, 159031, 39141, 1011...</td>\n",
       "      <td>440710</td>\n",
       "      <td>159031</td>\n",
       "      <td>...</td>\n",
       "      <td>NaN</td>\n",
       "      <td>NaN</td>\n",
       "      <td>NaN</td>\n",
       "      <td>NaN</td>\n",
       "      <td>NaN</td>\n",
       "      <td>NaN</td>\n",
       "      <td>NaN</td>\n",
       "      <td>NaN</td>\n",
       "      <td>NaN</td>\n",
       "      <td>NaN</td>\n",
       "    </tr>\n",
       "  </tbody>\n",
       "</table>\n",
       "<p>5 rows × 44 columns</p>\n",
       "</div>"
      ],
      "text/plain": [
       "   index                         title  domestic_total  runtime   rating  \\\n",
       "0      0                    The A-Team        77222099      117    PG-13   \n",
       "1      1                      A.C.O.D.          175705       88    PG-13   \n",
       "2      2  A.I. Artificial Intelligence        78616689      145    PG-13   \n",
       "3      3                   Aaja Nachle          484108      145  Unrated   \n",
       "4      4                     Aarakshan          651096      NaN  Unrated   \n",
       "\n",
       "  release_date  num_weeks                                        weekly_data  \\\n",
       "0   2010-06-11         14  {u'weekly_gross': [36022270, 20820708, 9247972...   \n",
       "1   2013-10-04          5  {u'weekly_gross': [26439, 48909, 64916, 24656,...   \n",
       "2   2001-06-29         11  {u'weekly_gross': [45535716, 19346848, 7471014...   \n",
       "3   2007-11-30          3  {u'weekly_gross': [310893, 132908, 40307], u'n...   \n",
       "4   2011-08-12          6  {u'weekly_gross': [440710, 159031, 39141, 1011...   \n",
       "\n",
       "   weekly_gross1  weekly_gross2   ...    rank3  rank4  rank5  rank6  rank7  \\\n",
       "0       36022270       20820708   ...        7      7     10     15     20   \n",
       "1          26439          48909   ...       47     54     67    NaN    NaN   \n",
       "2       45535716       19346848   ...       10     12     15     20     37   \n",
       "3         310893         132908   ...       48    NaN    NaN    NaN    NaN   \n",
       "4         440710         159031   ...      NaN    NaN    NaN    NaN    NaN   \n",
       "\n",
       "   rank8  rank9  rank10  rank11  rank12  \n",
       "0     22     28      32      38      45  \n",
       "1    NaN    NaN     NaN     NaN     NaN  \n",
       "2     43     55      38      41     NaN  \n",
       "3    NaN    NaN     NaN     NaN     NaN  \n",
       "4    NaN    NaN     NaN     NaN     NaN  \n",
       "\n",
       "[5 rows x 44 columns]"
      ]
     },
     "execution_count": 301,
     "metadata": {},
     "output_type": "execute_result"
    }
   ],
   "source": [
    "full_regression_data.head()"
   ]
  },
  {
   "cell_type": "code",
   "execution_count": null,
   "metadata": {
    "collapsed": true
   },
   "outputs": [],
   "source": []
  },
  {
   "cell_type": "code",
   "execution_count": null,
   "metadata": {
    "collapsed": true
   },
   "outputs": [],
   "source": []
  },
  {
   "cell_type": "markdown",
   "metadata": {},
   "source": [
    "# Filter the features by number of weeks that have happened"
   ]
  },
  {
   "cell_type": "code",
   "execution_count": 119,
   "metadata": {
    "collapsed": true
   },
   "outputs": [],
   "source": [
    "def filter_features_by_week(features,weeks_happened):\n",
    "    feature_names = features.columns\n",
    "    feature_subset = features[features['num_weeks']>weeks_happened]\n",
    "    target_cols = [np.array(range(weeks_happened))+(i*12+8) for i in range(0,3)]\n",
    "    target_cols.append(np.array([6]))\n",
    "    target_names = feature_names[list(np.concatenate(target_cols))]\n",
    "    feature_subset = feature_subset[target_names].dropna()\n",
    "    return feature_subset.pop('num_weeks'), feature_subset"
   ]
  },
  {
   "cell_type": "markdown",
   "metadata": {},
   "source": [
    "# Break data into train and test"
   ]
  },
  {
   "cell_type": "code",
   "execution_count": 153,
   "metadata": {
    "collapsed": false
   },
   "outputs": [],
   "source": [
    "y,X = filter_features_by_week(full_regression_data,2)"
   ]
  },
  {
   "cell_type": "code",
   "execution_count": 163,
   "metadata": {
    "collapsed": false
   },
   "outputs": [
    {
     "data": {
      "text/plain": [
       "0"
      ]
     },
     "execution_count": 163,
     "metadata": {},
     "output_type": "execute_result"
    }
   ],
   "source": [
    "pd.isnull(y).sum()"
   ]
  },
  {
   "cell_type": "code",
   "execution_count": 154,
   "metadata": {
    "collapsed": false
   },
   "outputs": [
    {
     "data": {
      "text/plain": [
       "0     14\n",
       "1      5\n",
       "2     11\n",
       "3      3\n",
       "5      6\n",
       "6      9\n",
       "9      4\n",
       "10     4\n",
       "11    12\n",
       "12     4\n",
       "Name: num_weeks, dtype: int64"
      ]
     },
     "execution_count": 154,
     "metadata": {},
     "output_type": "execute_result"
    }
   ],
   "source": [
    "y.head(10)"
   ]
  },
  {
   "cell_type": "code",
   "execution_count": 164,
   "metadata": {
    "collapsed": false
   },
   "outputs": [],
   "source": [
    "X_train, X_test, y_train, y_test = train_test_split(X, y, test_size=0.2, random_state=1)"
   ]
  },
  {
   "cell_type": "markdown",
   "metadata": {},
   "source": [
    "##### Need to reset the indexes so that I can grab correct cross validation rows"
   ]
  },
  {
   "cell_type": "code",
   "execution_count": 156,
   "metadata": {
    "collapsed": true
   },
   "outputs": [],
   "source": [
    "# cv_index_reset  = [X_train, X_test]"
   ]
  },
  {
   "cell_type": "code",
   "execution_count": 157,
   "metadata": {
    "collapsed": true
   },
   "outputs": [],
   "source": [
    "# X_train, X_test = [d.reset_index().drop('index', 1) for d in [X_train, X_test]]"
   ]
  },
  {
   "cell_type": "markdown",
   "metadata": {},
   "source": [
    "# Further subest train into train and cross validation"
   ]
  },
  {
   "cell_type": "code",
   "execution_count": 165,
   "metadata": {
    "collapsed": false
   },
   "outputs": [],
   "source": [
    "training_cv_splits = []\n",
    "kf = KFold(len(X_train),n_folds=4,shuffle = True)\n",
    "for train_index, cv_index in kf:\n",
    "    training_cv_splits.append((train_index,cv_index))"
   ]
  },
  {
   "cell_type": "code",
   "execution_count": 167,
   "metadata": {
    "collapsed": true
   },
   "outputs": [],
   "source": [
    "def grab_train_cv_data(X,y,index):\n",
    "    return X.iloc[index], y.iloc[index]"
   ]
  },
  {
   "cell_type": "code",
   "execution_count": 192,
   "metadata": {
    "collapsed": true
   },
   "outputs": [],
   "source": [
    "a,b = grab_train_cv_data(X_train,y_train,training_cv_splits[3][0])"
   ]
  },
  {
   "cell_type": "markdown",
   "metadata": {},
   "source": [
    "# try both ridge or lasso regression"
   ]
  },
  {
   "cell_type": "code",
   "execution_count": 293,
   "metadata": {
    "collapsed": true
   },
   "outputs": [],
   "source": [
    "def alpha_success_level(alpha,X,y):\n",
    "    rgr = linear_model.Ridge(alpha = alpha)\n",
    "    X_scaled = preprocessing.scale(X)\n",
    "    rgr.fit(X_scaled,y)\n",
    "    pred = rgr.predict(X_scaled)\n",
    "    return mean_squared_error(y, pred)"
   ]
  },
  {
   "cell_type": "code",
   "execution_count": 299,
   "metadata": {
    "collapsed": false
   },
   "outputs": [],
   "source": [
    "def alpha_min_mse(X,y):\n",
    "    alpha_levels = np.arange(0,20,.5)\n",
    "    mse_by_alpha = np.array([])\n",
    "    for level in alpha_levels:\n",
    "        mse = alpha_success_level(level,X,y)\n",
    "        mse_by_alpha = np.append(mse_by_alpha,mse)\n",
    "    return alpha_levels[np.argmin(mse_by_alpha)]"
   ]
  },
  {
   "cell_type": "code",
   "execution_count": 300,
   "metadata": {
    "collapsed": false
   },
   "outputs": [
    {
     "data": {
      "text/plain": [
       "0.0"
      ]
     },
     "execution_count": 300,
     "metadata": {},
     "output_type": "execute_result"
    }
   ],
   "source": []
  },
  {
   "cell_type": "code",
   "execution_count": 298,
   "metadata": {
    "collapsed": false
   },
   "outputs": [
    {
     "data": {
      "text/plain": [
       "[<matplotlib.lines.Line2D at 0x108c2c590>]"
      ]
     },
     "execution_count": 298,
     "metadata": {},
     "output_type": "execute_result"
    },
    {
     "data": {
      "image/png": "[encoded data removed]",
      "text/plain": [
       "<matplotlib.figure.Figure at 0x1084860d0>"
      ]
     },
     "metadata": {},
     "output_type": "display_data"
    }
   ],
   "source": [
    "plt.plot(mse_by_alpha)"
   ]
  }
 ],
 "metadata": {
  "kernelspec": {
   "display_name": "Python 2",
   "language": "python",
   "name": "python2"
  },
  "language_info": {
   "codemirror_mode": {
    "name": "ipython",
    "version": 2
   },
   "file_extension": ".py",
   "mimetype": "text/x-python",
   "name": "python",
   "nbconvert_exporter": "python",
   "pygments_lexer": "ipython2",
   "version": "2.7.10"
  }
 },
 "nbformat": 4,
 "nbformat_minor": 0
}
