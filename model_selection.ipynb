{
 "cells": [
  {
   "cell_type": "markdown",
   "metadata": {},
   "source": [
    "# get the data"
   ]
  },
  {
   "cell_type": "code",
   "execution_count": 273,
   "metadata": {
    "collapsed": false
   },
   "outputs": [],
   "source": [
    "import numpy as np\n",
    "import pandas as pd\n",
    "import pickle\n",
    "import matplotlib.pyplot as plt\n",
    "from sklearn.cross_validation import train_test_split\n",
    "from sklearn.cross_validation import KFold\n",
    "from sklearn import preprocessing\n",
    "from sklearn import linear_model\n",
    "from sklearn.metrics import mean_squared_error\n",
    "%matplotlib inline"
   ]
  },
  {
   "cell_type": "code",
   "execution_count": 11,
   "metadata": {
    "collapsed": false
   },
   "outputs": [],
   "source": [
    "full_regression_data = pickle.load( open( \"full_regression_data.pkl\", \"rb\" ) )"
   ]
  },
  {
   "cell_type": "code",
   "execution_count": 422,
   "metadata": {
    "collapsed": true
   },
   "outputs": [],
   "source": [
    "featureset = pickle.load( open( \"featureset.pkl\", \"rb\" ) )"
   ]
  },
  {
   "cell_type": "code",
   "execution_count": 423,
   "metadata": {
    "collapsed": false
   },
   "outputs": [
    {
     "data": {
      "text/plain": [
       "Index([u'num_weeks', u'jan', u'feb', u'mar', u'apr', u'may', u'jun', u'jul',\n",
       "       u'aug', u'sep', u'oct', u'nov', u'high_theatre_count', u'diff_gross1',\n",
       "       u'diff_gross2', u'diff_gross3', u'diff_gross4', u'diff_gross5',\n",
       "       u'diff_gross6', u'diff_gross7', u'diff_gross8', u'diff_gross9',\n",
       "       u'diff_gross10', u'diff_gross11', u'diff_theaters1', u'diff_theaters2',\n",
       "       u'diff_theaters3', u'diff_theaters4', u'diff_theaters5',\n",
       "       u'diff_theaters6', u'diff_theaters7', u'diff_theaters8',\n",
       "       u'diff_theaters9', u'diff_theaters10', u'diff_theaters11',\n",
       "       u'diff_rank1', u'diff_rank2', u'diff_rank3', u'diff_rank4',\n",
       "       u'diff_rank5', u'diff_rank6', u'diff_rank7', u'diff_rank8',\n",
       "       u'diff_rank9', u'diff_rank10', u'diff_rank11'],\n",
       "      dtype='object')"
      ]
     },
     "execution_count": 423,
     "metadata": {},
     "output_type": "execute_result"
    }
   ],
   "source": [
    "featureset.columns"
   ]
  },
  {
   "cell_type": "markdown",
   "metadata": {},
   "source": [
    "# Filter the features by number of weeks that have happened"
   ]
  },
  {
   "cell_type": "code",
   "execution_count": 515,
   "metadata": {
    "collapsed": false
   },
   "outputs": [],
   "source": [
    "def filter_features_by_week(features,weeks_happened):\n",
    "    feature_subset = features[features['num_weeks']>weeks_happened]\n",
    "    target_cols = [np.array(range(weeks_happened-1))+(i*11+13) for i in range(0,3)]\n",
    "    original_names = np.array(features.columns[:13])\n",
    "    target_names = features.columns[list(np.concatenate(target_cols))]\n",
    "    target_names = np.concatenate((original_names,target_names))\n",
    "    feature_subset = feature_subset[target_names].dropna()\n",
    "    y = feature_subset.pop('num_weeks').apply(np.log)\n",
    "    return y,feature_subset"
   ]
  },
  {
   "cell_type": "code",
   "execution_count": 495,
   "metadata": {
    "collapsed": false
   },
   "outputs": [
    {
     "data": {
      "text/plain": [
       "0     4.197225\n",
       "2     3.791759\n",
       "6     3.386294\n",
       "11    3.945910\n",
       "13    3.386294\n",
       "Name: num_weeks, dtype: float64"
      ]
     },
     "execution_count": 495,
     "metadata": {},
     "output_type": "execute_result"
    }
   ],
   "source": [
    "y.head()+2"
   ]
  },
  {
   "cell_type": "markdown",
   "metadata": {},
   "source": [
    "# Break data into train and test"
   ]
  },
  {
   "cell_type": "code",
   "execution_count": 516,
   "metadata": {
    "collapsed": false
   },
   "outputs": [],
   "source": [
    "y,X = filter_features_by_week(featureset,5)"
   ]
  },
  {
   "cell_type": "code",
   "execution_count": 517,
   "metadata": {
    "collapsed": false
   },
   "outputs": [],
   "source": [
    "X_train, X_test, y_train, y_test = train_test_split(X, y, test_size=0.2, random_state=1)"
   ]
  },
  {
   "cell_type": "markdown",
   "metadata": {},
   "source": [
    "# Further subest train into train and cross validation"
   ]
  },
  {
   "cell_type": "code",
   "execution_count": 500,
   "metadata": {
    "collapsed": false
   },
   "outputs": [],
   "source": [
    "def get_training_splits(X_train,folds=4):\n",
    "    training_cv_splits = []\n",
    "    kf = KFold(len(X_train),n_folds=folds,shuffle = True)\n",
    "    for train_index, cv_index in kf:\n",
    "        training_cv_splits.append((train_index,cv_index))\n",
    "    return training_cv_splits"
   ]
  },
  {
   "cell_type": "code",
   "execution_count": 509,
   "metadata": {
    "collapsed": true
   },
   "outputs": [],
   "source": [
    "def grab_train_cv_data(y,X):\n",
    "    cv = get_training_splits(X)\n",
    "    return y.iloc[cv[0][0]],X.iloc[cv[0][0]],y.iloc[cv[0][1]],X.iloc[cv[0][1]]"
   ]
  },
  {
   "cell_type": "code",
   "execution_count": 519,
   "metadata": {
    "collapsed": false
   },
   "outputs": [
    {
     "ename": "ValueError",
     "evalue": "too many values to unpack",
     "output_type": "error",
     "traceback": [
      "\u001b[0;31m---------------------------------------------------------------------------\u001b[0m",
      "\u001b[0;31mValueError\u001b[0m                                Traceback (most recent call last)",
      "\u001b[0;32m<ipython-input-519-356725b9dfe4>\u001b[0m in \u001b[0;36m<module>\u001b[0;34m()\u001b[0m\n\u001b[0;32m----> 1\u001b[0;31m \u001b[0my_cv1\u001b[0m \u001b[0;34m,\u001b[0m \u001b[0mX_cv1\u001b[0m \u001b[0;34m=\u001b[0m \u001b[0mgrab_train_cv_data\u001b[0m\u001b[0;34m(\u001b[0m\u001b[0mX_train\u001b[0m\u001b[0;34m,\u001b[0m\u001b[0my_train\u001b[0m\u001b[0;34m)\u001b[0m\u001b[0;34m\u001b[0m\u001b[0m\n\u001b[0m",
      "\u001b[0;31mValueError\u001b[0m: too many values to unpack"
     ]
    }
   ],
   "source": [
    "y_cv1 , X_cv1 = grab_train_cv_data(X_train,y_train)"
   ]
  },
  {
   "cell_type": "markdown",
   "metadata": {},
   "source": [
    "# Iterating through possible start weeks, more or less information comparison"
   ]
  },
  {
   "cell_type": "code",
   "execution_count": 521,
   "metadata": {
    "collapsed": false
   },
   "outputs": [
    {
     "name": "stdout",
     "output_type": "stream",
     "text": [
      "0.232208930702 0.226602071554\n",
      "0.295694590957 0.309091953198\n",
      "\n",
      "0.252060875665 0.24469841542\n",
      "0.211284385506 0.210147559705\n",
      "\n",
      "0.270596904091 0.279151824301\n",
      "0.158397554217 0.145755413617\n",
      "\n",
      "0.305003561237 0.269639178404\n",
      "0.118902170316 0.125833340322\n",
      "\n",
      "0.315850347407 0.30917041107\n",
      "0.0951652537439 0.0959418007542\n",
      "\n",
      "0.3171255675 0.323196224666\n",
      "0.0782849280055 0.0730063599678\n",
      "\n",
      "0.339479518541 0.283857994734\n",
      "0.0621023616739 0.0671809923881\n",
      "\n",
      "0.333386116586 0.299827082244\n",
      "0.052018357711 0.0501799353379\n",
      "\n",
      "0.333772286017 0.279779322531\n",
      "0.0456099395188 0.0446388290321\n",
      "\n",
      "0.356515126281 0.278161874181\n",
      "0.0370503052743 0.0383781104709\n",
      "\n",
      "0.314301827444 0.309443185261\n",
      "0.0327797209043 0.0347989862533\n",
      "\n"
     ]
    }
   ],
   "source": [
    "for i in range(2,13):\n",
    "    y,X = filter_features_by_week(featureset,i)\n",
    "    X_train, X_test, y_train, y_test = train_test_split(X, y, test_size=0.2, random_state=1)\n",
    "    y_cv_train,X_cv_train,y_cv_test,X_cv_test = grab_train_cv_data(y_train,X_train)\n",
    "    rgr = linear_model.LinearRegression()\n",
    "    rgr.fit(X_cv_train,y_cv_train)\n",
    "    pred_train, pred_test = rgr.predict(X_cv_train),rgr.predict(X_cv_test)\n",
    "    print rgr.score(X_cv_train,y_cv_train), rgr.score(X_cv_test,y_cv_test)\n",
    "    print mean_squared_error(y_cv_train, pred_train), mean_squared_error(y_cv_test, pred_test)\n",
    "    print ''"
   ]
  },
  {
   "cell_type": "markdown",
   "metadata": {},
   "source": [
    "# Running on Test Data with Full training set"
   ]
  },
  {
   "cell_type": "code",
   "execution_count": null,
   "metadata": {
    "collapsed": true
   },
   "outputs": [],
   "source": [
    "# X_train, X_test, y_train, y_test"
   ]
  },
  {
   "cell_type": "code",
   "execution_count": 525,
   "metadata": {
    "collapsed": false
   },
   "outputs": [],
   "source": [
    "model_comparison = {}\n",
    "for i in range(2,13):\n",
    "    y,X = filter_features_by_week(featureset,i)\n",
    "    X_train, X_test, y_train, y_test = train_test_split(X, y, test_size=0.2, random_state=1)\n",
    "    rgr = linear_model.LinearRegression()\n",
    "    rgr.fit(X_train,y_train)\n",
    "    pred_test = rgr.predict(X_test)\n",
    "    model_comparison[i] = {'y':y_test,'yhat':pred_test,\n",
    "                           'mse':mean_squared_error(y_test, pred_test),\n",
    "                           'score':rgr.score(X_test,y_test)}\n",
    "\n",
    "    "
   ]
  },
  {
   "cell_type": "code",
   "execution_count": 538,
   "metadata": {
    "collapsed": false
   },
   "outputs": [],
   "source": [
    "Mses = pd.DataFrame([[key,model_comparison[key]['mse']] for key in model_comparison.keys()])"
   ]
  },
  {
   "cell_type": "code",
   "execution_count": 532,
   "metadata": {
    "collapsed": false
   },
   "outputs": [
    {
     "name": "stdout",
     "output_type": "stream",
     "text": [
      "Collecting seaborn\n",
      "  Downloading seaborn-0.7.0.tar.gz (154kB)\n",
      "\u001b[K    100% |████████████████████████████████| 155kB 1.4MB/s \n",
      "\u001b[?25hBuilding wheels for collected packages: seaborn\n",
      "  Running setup.py bdist_wheel for seaborn\n",
      "  Stored in directory: /Users/justinstewart/Library/Caches/pip/wheels/83/56/50/6dc42e822bb1b1aad5e8f2927b1c932dc89ee4e0b15dac98c6\n",
      "Successfully built seaborn\n",
      "Installing collected packages: seaborn\n",
      "Successfully installed seaborn-0.7.0\n",
      "\u001b[33mYou are using pip version 7.1.2, however version 8.0.2 is available.\n",
      "You should consider upgrading via the 'pip install --upgrade pip' command.\u001b[0m\n"
     ]
    }
   ],
   "source": [
    "!pip install seaborn"
   ]
  },
  {
   "cell_type": "code",
   "execution_count": 542,
   "metadata": {
    "collapsed": true
   },
   "outputs": [],
   "source": [
    "import seaborn as sns"
   ]
  },
  {
   "cell_type": "code",
   "execution_count": 545,
   "metadata": {
    "collapsed": false
   },
   "outputs": [
    {
     "data": {
      "text/plain": [
       "<matplotlib.text.Text at 0x1144acc50>"
      ]
     },
     "execution_count": 545,
     "metadata": {},
     "output_type": "execute_result"
    },
    {
     "data": {
      "image/png": "[encoded data removed]",
      "text/plain": [
       "<matplotlib.figure.Figure at 0x1143cd650>"
      ]
     },
     "metadata": {},
     "output_type": "display_data"
    }
   ],
   "source": [
    "plt.plot(Mses[0],Mses[1])\n",
    "plt.ylabel('MSE')\n",
    "plt.xlabel('Week in consideration')\n",
    "plt.title('Mean squared error of model varying amount of observed weeks')"
   ]
  },
  {
   "cell_type": "code",
   "execution_count": 541,
   "metadata": {
    "collapsed": false
   },
   "outputs": [
    {
     "data": {
      "text/html": [
       "<div>\n",
       "<table border=\"1\" class=\"dataframe\">\n",
       "  <thead>\n",
       "    <tr style=\"text-align: right;\">\n",
       "      <th></th>\n",
       "      <th>log_num_weeks</th>\n",
       "      <th>num_weeks</th>\n",
       "      <th>jan</th>\n",
       "      <th>feb</th>\n",
       "      <th>mar</th>\n",
       "      <th>apr</th>\n",
       "      <th>may</th>\n",
       "      <th>jun</th>\n",
       "      <th>jul</th>\n",
       "      <th>aug</th>\n",
       "      <th>...</th>\n",
       "      <th>diff_rank2</th>\n",
       "      <th>diff_rank3</th>\n",
       "      <th>diff_rank4</th>\n",
       "      <th>diff_rank5</th>\n",
       "      <th>diff_rank6</th>\n",
       "      <th>diff_rank7</th>\n",
       "      <th>diff_rank8</th>\n",
       "      <th>diff_rank9</th>\n",
       "      <th>diff_rank10</th>\n",
       "      <th>diff_rank11</th>\n",
       "    </tr>\n",
       "  </thead>\n",
       "  <tbody>\n",
       "    <tr>\n",
       "      <th>0</th>\n",
       "      <td>2.639057</td>\n",
       "      <td>14</td>\n",
       "      <td>0</td>\n",
       "      <td>0</td>\n",
       "      <td>0</td>\n",
       "      <td>0</td>\n",
       "      <td>0</td>\n",
       "      <td>1</td>\n",
       "      <td>0</td>\n",
       "      <td>0</td>\n",
       "      <td>...</td>\n",
       "      <td>4</td>\n",
       "      <td>0</td>\n",
       "      <td>3</td>\n",
       "      <td>5</td>\n",
       "      <td>5</td>\n",
       "      <td>2</td>\n",
       "      <td>6</td>\n",
       "      <td>4</td>\n",
       "      <td>6</td>\n",
       "      <td>7</td>\n",
       "    </tr>\n",
       "    <tr>\n",
       "      <th>1</th>\n",
       "      <td>1.609438</td>\n",
       "      <td>5</td>\n",
       "      <td>0</td>\n",
       "      <td>0</td>\n",
       "      <td>0</td>\n",
       "      <td>0</td>\n",
       "      <td>0</td>\n",
       "      <td>0</td>\n",
       "      <td>0</td>\n",
       "      <td>0</td>\n",
       "      <td>...</td>\n",
       "      <td>-8</td>\n",
       "      <td>7</td>\n",
       "      <td>13</td>\n",
       "      <td>NaN</td>\n",
       "      <td>NaN</td>\n",
       "      <td>NaN</td>\n",
       "      <td>NaN</td>\n",
       "      <td>NaN</td>\n",
       "      <td>NaN</td>\n",
       "      <td>NaN</td>\n",
       "    </tr>\n",
       "    <tr>\n",
       "      <th>2</th>\n",
       "      <td>2.397895</td>\n",
       "      <td>11</td>\n",
       "      <td>0</td>\n",
       "      <td>0</td>\n",
       "      <td>0</td>\n",
       "      <td>0</td>\n",
       "      <td>0</td>\n",
       "      <td>1</td>\n",
       "      <td>0</td>\n",
       "      <td>0</td>\n",
       "      <td>...</td>\n",
       "      <td>7</td>\n",
       "      <td>2</td>\n",
       "      <td>3</td>\n",
       "      <td>5</td>\n",
       "      <td>17</td>\n",
       "      <td>6</td>\n",
       "      <td>12</td>\n",
       "      <td>-17</td>\n",
       "      <td>3</td>\n",
       "      <td>NaN</td>\n",
       "    </tr>\n",
       "    <tr>\n",
       "      <th>3</th>\n",
       "      <td>1.098612</td>\n",
       "      <td>3</td>\n",
       "      <td>0</td>\n",
       "      <td>0</td>\n",
       "      <td>0</td>\n",
       "      <td>0</td>\n",
       "      <td>0</td>\n",
       "      <td>0</td>\n",
       "      <td>0</td>\n",
       "      <td>0</td>\n",
       "      <td>...</td>\n",
       "      <td>13</td>\n",
       "      <td>NaN</td>\n",
       "      <td>NaN</td>\n",
       "      <td>NaN</td>\n",
       "      <td>NaN</td>\n",
       "      <td>NaN</td>\n",
       "      <td>NaN</td>\n",
       "      <td>NaN</td>\n",
       "      <td>NaN</td>\n",
       "      <td>NaN</td>\n",
       "    </tr>\n",
       "    <tr>\n",
       "      <th>4</th>\n",
       "      <td>1.791759</td>\n",
       "      <td>6</td>\n",
       "      <td>0</td>\n",
       "      <td>0</td>\n",
       "      <td>0</td>\n",
       "      <td>0</td>\n",
       "      <td>0</td>\n",
       "      <td>0</td>\n",
       "      <td>0</td>\n",
       "      <td>1</td>\n",
       "      <td>...</td>\n",
       "      <td>NaN</td>\n",
       "      <td>NaN</td>\n",
       "      <td>NaN</td>\n",
       "      <td>NaN</td>\n",
       "      <td>NaN</td>\n",
       "      <td>NaN</td>\n",
       "      <td>NaN</td>\n",
       "      <td>NaN</td>\n",
       "      <td>NaN</td>\n",
       "      <td>NaN</td>\n",
       "    </tr>\n",
       "  </tbody>\n",
       "</table>\n",
       "<p>5 rows × 47 columns</p>\n",
       "</div>"
      ],
      "text/plain": [
       "   log_num_weeks  num_weeks  jan  feb  mar  apr  may  jun  jul  aug  \\\n",
       "0       2.639057         14    0    0    0    0    0    1    0    0   \n",
       "1       1.609438          5    0    0    0    0    0    0    0    0   \n",
       "2       2.397895         11    0    0    0    0    0    1    0    0   \n",
       "3       1.098612          3    0    0    0    0    0    0    0    0   \n",
       "4       1.791759          6    0    0    0    0    0    0    0    1   \n",
       "\n",
       "      ...       diff_rank2  diff_rank3  diff_rank4  diff_rank5  diff_rank6  \\\n",
       "0     ...                4           0           3           5           5   \n",
       "1     ...               -8           7          13         NaN         NaN   \n",
       "2     ...                7           2           3           5          17   \n",
       "3     ...               13         NaN         NaN         NaN         NaN   \n",
       "4     ...              NaN         NaN         NaN         NaN         NaN   \n",
       "\n",
       "   diff_rank7  diff_rank8  diff_rank9  diff_rank10  diff_rank11  \n",
       "0           2           6           4            6            7  \n",
       "1         NaN         NaN         NaN          NaN          NaN  \n",
       "2           6          12         -17            3          NaN  \n",
       "3         NaN         NaN         NaN          NaN          NaN  \n",
       "4         NaN         NaN         NaN          NaN          NaN  \n",
       "\n",
       "[5 rows x 47 columns]"
      ]
     },
     "execution_count": 541,
     "metadata": {},
     "output_type": "execute_result"
    }
   ],
   "source": [
    "features.head()"
   ]
  },
  {
   "cell_type": "markdown",
   "metadata": {},
   "source": [
    "# try both ridge or lasso regression"
   ]
  },
  {
   "cell_type": "code",
   "execution_count": 442,
   "metadata": {
    "collapsed": true
   },
   "outputs": [],
   "source": [
    "def alpha_success_level(alpha,X,y):\n",
    "    rgr = linear_model.Ridge(alpha = alpha)\n",
    "    X_scaled = preprocessing.scale(X)\n",
    "    rgr.fit(X_scaled,y)\n",
    "    pred = rgr.predict(X_scaled)\n",
    "    return mean_squared_error(y, pred)"
   ]
  },
  {
   "cell_type": "code",
   "execution_count": 466,
   "metadata": {
    "collapsed": false
   },
   "outputs": [],
   "source": [
    "def alpha_min_mse(X,y):\n",
    "    alpha_levels = np.arange(0,20,.5)\n",
    "    mse_by_alpha = np.array([])\n",
    "    for level in alpha_levels:\n",
    "        mse = alpha_success_level(level,X,y)\n",
    "        mse_by_alpha = np.append(mse_by_alpha,mse)\n",
    "    return alpha_levels[np.argmin(mse_by_alpha)]"
   ]
  },
  {
   "cell_type": "code",
   "execution_count": 467,
   "metadata": {
    "collapsed": false
   },
   "outputs": [
    {
     "data": {
      "text/plain": [
       "0.5"
      ]
     },
     "execution_count": 467,
     "metadata": {},
     "output_type": "execute_result"
    }
   ],
   "source": [
    "alpha_min_mse(X_cv1,y_cv1)"
   ]
  },
  {
   "cell_type": "code",
   "execution_count": 468,
   "metadata": {
    "collapsed": false
   },
   "outputs": [
    {
     "data": {
      "text/plain": [
       "[<matplotlib.lines.Line2D at 0x113f7f390>]"
      ]
     },
     "execution_count": 468,
     "metadata": {},
     "output_type": "execute_result"
    },
    {
     "data": {
      "image/png": "[encoded data removed]",
      "text/plain": [
       "<matplotlib.figure.Figure at 0x112ef0e50>"
      ]
     },
     "metadata": {},
     "output_type": "display_data"
    }
   ],
   "source": [
    "plt.plot(mse_by_alpha)"
   ]
  }
 ],
 "metadata": {
  "kernelspec": {
   "display_name": "Python 2",
   "language": "python",
   "name": "python2"
  },
  "language_info": {
   "codemirror_mode": {
    "name": "ipython",
    "version": 2
   },
   "file_extension": ".py",
   "mimetype": "text/x-python",
   "name": "python",
   "nbconvert_exporter": "python",
   "pygments_lexer": "ipython2",
   "version": "2.7.10"
  }
 },
 "nbformat": 4,
 "nbformat_minor": 0
}
