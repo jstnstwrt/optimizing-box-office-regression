{
 "cells": [
  {
   "cell_type": "code",
   "execution_count": 71,
   "metadata": {
    "collapsed": true
   },
   "outputs": [],
   "source": [
    "import pandas as pd\n",
    "import numpy as np\n",
    "from matplotlib as plt\n",
    "from pprint import pprint\n",
    "import pickle\n",
    "%matplotlib inline"
   ]
  },
  {
   "cell_type": "code",
   "execution_count": 2,
   "metadata": {
    "collapsed": true
   },
   "outputs": [],
   "source": [
    "# movie_data = pickle.load( open( \"movie_data.pkl\", \"rb\" ) )"
   ]
  },
  {
   "cell_type": "markdown",
   "metadata": {},
   "source": [
    "maybe need to through out movies that are currently in theatres, because this data wont be accurate for those data points"
   ]
  },
  {
   "cell_type": "markdown",
   "metadata": {},
   "source": [
    "# Parsing scraped data into Dataframe"
   ]
  },
  {
   "cell_type": "code",
   "execution_count": 403,
   "metadata": {
    "collapsed": true
   },
   "outputs": [],
   "source": [
    "movie_keys = ['title','domestic_total', 'runtime','rating', 'release_date' ]\n",
    "weekly_keys = ['rank','num_theaters','weekly_gross', 'week_num']"
   ]
  },
  {
   "cell_type": "code",
   "execution_count": 404,
   "metadata": {
    "collapsed": false
   },
   "outputs": [],
   "source": [
    "def parse_value(num):\n",
    "    try:\n",
    "        num = int(num.replace('$', '').replace(',', ''))\n",
    "    except:\n",
    "        num = np.nan\n",
    "    return num\n",
    "    "
   ]
  },
  {
   "cell_type": "code",
   "execution_count": 405,
   "metadata": {
    "collapsed": true
   },
   "outputs": [],
   "source": [
    "def parse_weekly_data(weekly_dict):\n",
    "    '''a function that creates the attributes that are a function \n",
    "       of the weekly data (e.g., drop_off_rate) and others. Minimum case yields\n",
    "       the number of weeks in theatres.\n",
    "    '''\n",
    "    weeks = {}\n",
    "    weekly_keys = ['rank','num_theaters','weekly_gross', 'week_num']\n",
    "    for key in weekly_keys:\n",
    "        weeks[key] = [parse_value(x) for x in weekly_dict[key]]\n",
    "    return weeks"
   ]
  },
  {
   "cell_type": "code",
   "execution_count": 406,
   "metadata": {
    "collapsed": true
   },
   "outputs": [],
   "source": [
    "def parse_movie_data(movie_data):\n",
    "    ''' Takes a dict of a movie scraped from Box Office Mojo and generates\n",
    "        a row of for each feature to be added to the dataframe.\n",
    "    '''\n",
    "    mvp_movie_data = []\n",
    "    for movie_dict in movie_data:\n",
    "        # Only keep movies with correct initial values.\n",
    "        if '1' == movie_dict['weekly_data']['week_num'][0]:\n",
    "            movie = [movie_dict[key] for key in movie_keys]\n",
    "            movie.append(max([int(x) for x in movie_dict['weekly_data']['week_num']]))\n",
    "            movie.append(parse_weekly_data(movie_dict['weekly_data']))\n",
    "            mvp_movie_data.append(movie) \n",
    "    return pd.DataFrame(mvp_movie_data)"
   ]
  },
  {
   "cell_type": "code",
   "execution_count": 671,
   "metadata": {
    "collapsed": false
   },
   "outputs": [],
   "source": [
    "df = parse_movie_data(movie_data)"
   ]
  },
  {
   "cell_type": "markdown",
   "metadata": {},
   "source": [
    "Subsetted the data set to only include movies with data that started at week 1!"
   ]
  },
  {
   "cell_type": "code",
   "execution_count": 672,
   "metadata": {
    "collapsed": true
   },
   "outputs": [],
   "source": [
    "names = movie_keys + ['num_weeks','weekly_data']\n",
    "df.columns = names"
   ]
  },
  {
   "cell_type": "code",
   "execution_count": 673,
   "metadata": {
    "collapsed": false
   },
   "outputs": [],
   "source": [
    "df = df[df['num_weeks']>=2]"
   ]
  },
  {
   "cell_type": "markdown",
   "metadata": {},
   "source": [
    "Subset set df so that every movie ran for at least 2 weeks, otherwise, there would be nothing to predict for movies that ended in the first week. "
   ]
  },
  {
   "cell_type": "markdown",
   "metadata": {},
   "source": [
    "# Processing and transofrming the data for regression"
   ]
  },
  {
   "cell_type": "markdown",
   "metadata": {},
   "source": [
    "need to create a place holder matrix that has enough columns for all the additional data. so if we consider including 12 weeks of potential training data, for three features, needs to be 3*12 X len(df)"
   ]
  },
  {
   "cell_type": "code",
   "execution_count": 674,
   "metadata": {
    "collapsed": false
   },
   "outputs": [],
   "source": [
    "weekly_names =  df.loc[0].weekly_data.keys()[:3]\n",
    "new_feature_names = [col+ str(i) for col in weekly_names for i in range(1,13)]"
   ]
  },
  {
   "cell_type": "code",
   "execution_count": 676,
   "metadata": {
    "collapsed": false
   },
   "outputs": [],
   "source": [
    "full_feature_set = []\n",
    "for movie in np.array(df):\n",
    "    weekly_features = [(x + [None]*12)[:12] for x in movie[6].values()[:3]]\n",
    "    feature = list(itertools.chain(*weekly_features))\n",
    "    full_feature_set.append(feature)\n",
    "df_features = pd.DataFrame(full_feature_set,columns = new_feature_`names)\n"
   ]
  },
  {
   "cell_type": "code",
   "execution_count": 687,
   "metadata": {
    "collapsed": false
   },
   "outputs": [],
   "source": [
    "features = pd.concat([df.reset_index(),df_features],axis=1)"
   ]
  },
  {
   "cell_type": "markdown",
   "metadata": {},
   "source": [
    "# Need to build a smarter way to deal with missing values"
   ]
  },
  {
   "cell_type": "code",
   "execution_count": 787,
   "metadata": {
    "collapsed": true
   },
   "outputs": [],
   "source": [
    "with open('full_regression_data.pkl', 'wb') as output:\n",
    "    pickle.dump(features, output, pickle.HIGHEST_PROTOCOL)"
   ]
  }
 ],
 "metadata": {
  "kernelspec": {
   "display_name": "Python 2",
   "language": "python",
   "name": "python2"
  },
  "language_info": {
   "codemirror_mode": {
    "name": "ipython",
    "version": 2
   },
   "file_extension": ".py",
   "mimetype": "text/x-python",
   "name": "python",
   "nbconvert_exporter": "python",
   "pygments_lexer": "ipython2",
   "version": "2.7.10"
  }
 },
 "nbformat": 4,
 "nbformat_minor": 0
}
