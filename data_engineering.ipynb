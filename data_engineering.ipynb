{
 "cells": [
  {
   "cell_type": "code",
   "execution_count": 71,
   "metadata": {
    "collapsed": true
   },
   "outputs": [],
   "source": [
    "import pandas as pd\n",
    "import numpy as np\n",
    "from matplotlib as plt\n",
    "from pprint import pprint\n",
    "import pickle\n",
    "%matplotlib inline"
   ]
  },
  {
   "cell_type": "code",
   "execution_count": 2,
   "metadata": {
    "collapsed": true
   },
   "outputs": [],
   "source": [
    "# movie_data = pickle.load( open( \"movie_data.pkl\", \"rb\" ) )"
   ]
  },
  {
   "cell_type": "markdown",
   "metadata": {},
   "source": [
    "maybe need to through out movies that are currently in theatres, because this data wont be accurate for those data points"
   ]
  },
  {
   "cell_type": "markdown",
   "metadata": {},
   "source": [
    "# Parsing scraped data into Dataframe"
   ]
  },
  {
   "cell_type": "code",
   "execution_count": 403,
   "metadata": {
    "collapsed": true
   },
   "outputs": [],
   "source": [
    "movie_keys = ['title','domestic_total', 'runtime','rating', 'release_date' ]\n",
    "weekly_keys = ['rank','num_theaters','weekly_gross', 'week_num']"
   ]
  },
  {
   "cell_type": "code",
   "execution_count": 404,
   "metadata": {
    "collapsed": false
   },
   "outputs": [],
   "source": [
    "def parse_value(num):\n",
    "    try:\n",
    "        num = int(num.replace('$', '').replace(',', ''))\n",
    "    except:\n",
    "        num = np.nan\n",
    "    return num\n",
    "    "
   ]
  },
  {
   "cell_type": "code",
   "execution_count": 405,
   "metadata": {
    "collapsed": true
   },
   "outputs": [],
   "source": [
    "def parse_weekly_data(weekly_dict):\n",
    "    '''a function that creates the attributes that are a function \n",
    "       of the weekly data (e.g., drop_off_rate) and others. Minimum case yields\n",
    "       the number of weeks in theatres.\n",
    "    '''\n",
    "    weeks = {}\n",
    "    weekly_keys = ['rank','num_theaters','weekly_gross', 'week_num']\n",
    "    for key in weekly_keys:\n",
    "        weeks[key] = [parse_value(x) for x in weekly_dict[key]]\n",
    "    return weeks"
   ]
  },
  {
   "cell_type": "code",
   "execution_count": 406,
   "metadata": {
    "collapsed": true
   },
   "outputs": [],
   "source": [
    "def parse_movie_data(movie_data):\n",
    "    ''' Takes a dict of a movie scraped from Box Office Mojo and generates\n",
    "        a row of for each feature to be added to the dataframe.\n",
    "    '''\n",
    "    mvp_movie_data = []\n",
    "    for movie_dict in movie_data:\n",
    "        # Only keep movies with correct initial values.\n",
    "        if '1' == movie_dict['weekly_data']['week_num'][0]:\n",
    "            movie = [movie_dict[key] for key in movie_keys]\n",
    "            movie.append(max([int(x) for x in movie_dict['weekly_data']['week_num']]))\n",
    "            movie.append(parse_weekly_data(movie_dict['weekly_data']))\n",
    "            mvp_movie_data.append(movie) \n",
    "    return pd.DataFrame(mvp_movie_data)"
   ]
  },
  {
   "cell_type": "code",
   "execution_count": 407,
   "metadata": {
    "collapsed": false
   },
   "outputs": [],
   "source": [
    "df = parse_movie_data(movie_data)"
   ]
  },
  {
   "cell_type": "markdown",
   "metadata": {},
   "source": [
    "Subsetted the data set to only include movies with data that started at week 1!"
   ]
  },
  {
   "cell_type": "code",
   "execution_count": 408,
   "metadata": {
    "collapsed": true
   },
   "outputs": [],
   "source": [
    "names = movie_keys + ['num_weeks','weekly_data']\n",
    "df.columns = names"
   ]
  },
  {
   "cell_type": "markdown",
   "metadata": {},
   "source": [
    "# Processing and transofrming the data for regression"
   ]
  },
  {
   "cell_type": "markdown",
   "metadata": {},
   "source": [
    "Subset set df so that every movie ran for at least 2 weeks, otherwise, there would be nothing to predict for movies that ended in the first week. "
   ]
  },
  {
   "cell_type": "code",
   "execution_count": 504,
   "metadata": {
    "collapsed": false
   },
   "outputs": [],
   "source": [
    "df = df[df['num_weeks']>3]"
   ]
  },
  {
   "cell_type": "code",
   "execution_count": 268,
   "metadata": {
    "collapsed": false
   },
   "outputs": [],
   "source": [
    "def get_features(df,current_week_num):\n",
    "    ''' This function takes the main dataframe and a current week number and\n",
    "        dynamically generates the full feature set by parsing the weekly data dict.\n",
    "    '''\n",
    "    new_data = []\n",
    "    current_week_num = 1\n",
    "    x = df[df['num_weeks']>current_week_num]\n",
    "    for row in x.as_matrix():\n",
    "        new_vals = [vals[current_week_num -1 ] for vals in row[6].values()]\n",
    "        new_data.append(new_vals)\n",
    "    d = pd.DataFrame(new_data)\n",
    "    names = [s + str(current_week_num) for s in row[6].keys()]\n",
    "    d.columns = names\n",
    "    features = pd.concat([x, d], axis=1)\n",
    "    return features"
   ]
  },
  {
   "cell_type": "code",
   "execution_count": 505,
   "metadata": {
    "collapsed": true
   },
   "outputs": [],
   "source": [
    "test = df[:10]"
   ]
  },
  {
   "cell_type": "code",
   "execution_count": 507,
   "metadata": {
    "collapsed": false
   },
   "outputs": [],
   "source": [
    "movie_weeks = pd.DataFrame(test.weekly_data[0].values()).T.as_matrix()"
   ]
  },
  {
   "cell_type": "code",
   "execution_count": 508,
   "metadata": {
    "collapsed": false
   },
   "outputs": [
    {
     "data": {
      "text/plain": [
       "array([[36022270,     3535,        2,        1],\n",
       "       [20820708,     3544,        3,        2],\n",
       "       [ 9247972,     2162,        7,        3],\n",
       "       [ 6080223,     2153,        7,        4],\n",
       "       [ 2575010,      796,       10,        5],\n",
       "       [  702247,      428,       15,        6],\n",
       "       [  453311,      296,       20,        7],\n",
       "       [  432328,      282,       22,        8],\n",
       "       [  312908,      241,       28,        9],\n",
       "       [  225418,      204,       32,       10],\n",
       "       [  157072,      151,       38,       11],\n",
       "       [   90952,       92,       45,       12],\n",
       "       [   75897,       54,       50,       13],\n",
       "       [   25783,       31,       66,       14]])"
      ]
     },
     "execution_count": 508,
     "metadata": {},
     "output_type": "execute_result"
    }
   ],
   "source": [
    "movie_weeks"
   ]
  },
  {
   "cell_type": "code",
   "execution_count": 495,
   "metadata": {
    "collapsed": false
   },
   "outputs": [],
   "source": [
    "names = test.weekly_data[0].keys()"
   ]
  },
  {
   "cell_type": "code",
   "execution_count": 496,
   "metadata": {
    "collapsed": false
   },
   "outputs": [
    {
     "data": {
      "text/html": [
       "<div>\n",
       "<table border=\"1\" class=\"dataframe\">\n",
       "  <thead>\n",
       "    <tr style=\"text-align: right;\">\n",
       "      <th></th>\n",
       "      <th>title</th>\n",
       "      <th>domestic_total</th>\n",
       "      <th>runtime</th>\n",
       "      <th>rating</th>\n",
       "      <th>release_date</th>\n",
       "      <th>num_weeks</th>\n",
       "      <th>weekly_data</th>\n",
       "    </tr>\n",
       "  </thead>\n",
       "  <tbody>\n",
       "    <tr>\n",
       "      <th>0</th>\n",
       "      <td>The A-Team</td>\n",
       "      <td>77222099</td>\n",
       "      <td>117</td>\n",
       "      <td>PG-13</td>\n",
       "      <td>2010-06-11</td>\n",
       "      <td>14</td>\n",
       "      <td>{u'weekly_gross': [36022270, 20820708, 9247972...</td>\n",
       "    </tr>\n",
       "    <tr>\n",
       "      <th>1</th>\n",
       "      <td>A.C.O.D.</td>\n",
       "      <td>175705</td>\n",
       "      <td>88</td>\n",
       "      <td>PG-13</td>\n",
       "      <td>2013-10-04</td>\n",
       "      <td>5</td>\n",
       "      <td>{u'weekly_gross': [26439, 48909, 64916, 24656,...</td>\n",
       "    </tr>\n",
       "  </tbody>\n",
       "</table>\n",
       "</div>"
      ],
      "text/plain": [
       "        title  domestic_total  runtime rating release_date  num_weeks  \\\n",
       "0  The A-Team        77222099      117  PG-13   2010-06-11         14   \n",
       "1    A.C.O.D.          175705       88  PG-13   2013-10-04          5   \n",
       "\n",
       "                                         weekly_data  \n",
       "0  {u'weekly_gross': [36022270, 20820708, 9247972...  \n",
       "1  {u'weekly_gross': [26439, 48909, 64916, 24656,...  "
      ]
     },
     "execution_count": 496,
     "metadata": {},
     "output_type": "execute_result"
    }
   ],
   "source": [
    "test.head(2)"
   ]
  },
  {
   "cell_type": "code",
   "execution_count": 503,
   "metadata": {
    "collapsed": false
   },
   "outputs": [
    {
     "data": {
      "text/html": [
       "<div>\n",
       "<table border=\"1\" class=\"dataframe\">\n",
       "  <thead>\n",
       "    <tr style=\"text-align: right;\">\n",
       "      <th></th>\n",
       "      <th>0</th>\n",
       "    </tr>\n",
       "  </thead>\n",
       "  <tbody>\n",
       "    <tr>\n",
       "      <th>title</th>\n",
       "      <td>The A-Team</td>\n",
       "    </tr>\n",
       "    <tr>\n",
       "      <th>domestic_total</th>\n",
       "      <td>77222099</td>\n",
       "    </tr>\n",
       "    <tr>\n",
       "      <th>runtime</th>\n",
       "      <td>117</td>\n",
       "    </tr>\n",
       "    <tr>\n",
       "      <th>rating</th>\n",
       "      <td>PG-13</td>\n",
       "    </tr>\n",
       "    <tr>\n",
       "      <th>release_date</th>\n",
       "      <td>2010-06-11 00:00:00</td>\n",
       "    </tr>\n",
       "    <tr>\n",
       "      <th>num_weeks</th>\n",
       "      <td>14</td>\n",
       "    </tr>\n",
       "    <tr>\n",
       "      <th>weekly_data</th>\n",
       "      <td>{u'weekly_gross': [36022270, 20820708, 9247972...</td>\n",
       "    </tr>\n",
       "    <tr>\n",
       "      <th>weekly_gross_1</th>\n",
       "      <td>36022270</td>\n",
       "    </tr>\n",
       "    <tr>\n",
       "      <th>num_theaters_1</th>\n",
       "      <td>3535</td>\n",
       "    </tr>\n",
       "    <tr>\n",
       "      <th>rank_1</th>\n",
       "      <td>2</td>\n",
       "    </tr>\n",
       "    <tr>\n",
       "      <th>week_num_1</th>\n",
       "      <td>1</td>\n",
       "    </tr>\n",
       "  </tbody>\n",
       "</table>\n",
       "</div>"
      ],
      "text/plain": [
       "                                                                0\n",
       "title                                                  The A-Team\n",
       "domestic_total                                           77222099\n",
       "runtime                                                       117\n",
       "rating                                                      PG-13\n",
       "release_date                                  2010-06-11 00:00:00\n",
       "num_weeks                                                      14\n",
       "weekly_data     {u'weekly_gross': [36022270, 20820708, 9247972...\n",
       "weekly_gross_1                                           36022270\n",
       "num_theaters_1                                               3535\n",
       "rank_1                                                          2\n",
       "week_num_1                                                      1"
      ]
     },
     "execution_count": 503,
     "metadata": {},
     "output_type": "execute_result"
    }
   ],
   "source": [
    "test"
   ]
  },
  {
   "cell_type": "code",
   "execution_count": 498,
   "metadata": {
    "collapsed": false
   },
   "outputs": [
    {
     "ename": "KeyError",
     "evalue": "'the label [1] is not in the [index]'",
     "output_type": "error",
     "traceback": [
      "\u001b[0;31m---------------------------------------------------------------------------\u001b[0m",
      "\u001b[0;31mKeyError\u001b[0m                                  Traceback (most recent call last)",
      "\u001b[0;32m<ipython-input-498-08f2be14e8f0>\u001b[0m in \u001b[0;36m<module>\u001b[0;34m()\u001b[0m\n\u001b[1;32m      2\u001b[0m     \u001b[0mvals\u001b[0m \u001b[0;34m=\u001b[0m \u001b[0mmovie_weeks\u001b[0m\u001b[0;34m[\u001b[0m\u001b[0mi\u001b[0m\u001b[0;34m]\u001b[0m\u001b[0;34m\u001b[0m\u001b[0m\n\u001b[1;32m      3\u001b[0m     \u001b[0mcol_names\u001b[0m \u001b[0;34m=\u001b[0m \u001b[0;34m[\u001b[0m\u001b[0mname\u001b[0m\u001b[0;34m+\u001b[0m\u001b[0;34m'_%s'\u001b[0m\u001b[0;34m%\u001b[0m \u001b[0mstr\u001b[0m\u001b[0;34m(\u001b[0m\u001b[0mi\u001b[0m\u001b[0;34m+\u001b[0m\u001b[0;36m1\u001b[0m\u001b[0;34m)\u001b[0m \u001b[0;32mfor\u001b[0m \u001b[0mname\u001b[0m \u001b[0;32min\u001b[0m \u001b[0mnames\u001b[0m\u001b[0;34m]\u001b[0m\u001b[0;34m\u001b[0m\u001b[0m\n\u001b[0;32m----> 4\u001b[0;31m     \u001b[0mtest\u001b[0m \u001b[0;34m=\u001b[0m \u001b[0mpd\u001b[0m\u001b[0;34m.\u001b[0m\u001b[0mconcat\u001b[0m\u001b[0;34m(\u001b[0m\u001b[0;34m[\u001b[0m\u001b[0mtest\u001b[0m\u001b[0;34m.\u001b[0m\u001b[0mloc\u001b[0m\u001b[0;34m[\u001b[0m\u001b[0mi\u001b[0m\u001b[0;34m]\u001b[0m\u001b[0;34m,\u001b[0m\u001b[0mpd\u001b[0m\u001b[0;34m.\u001b[0m\u001b[0mDataFrame\u001b[0m\u001b[0;34m(\u001b[0m\u001b[0mvals\u001b[0m\u001b[0;34m,\u001b[0m\u001b[0mcol_names\u001b[0m\u001b[0;34m)\u001b[0m\u001b[0;34m]\u001b[0m\u001b[0;34m)\u001b[0m\u001b[0;34m\u001b[0m\u001b[0m\n\u001b[0m\u001b[1;32m      5\u001b[0m \u001b[0;34m\u001b[0m\u001b[0m\n",
      "\u001b[0;32m/Users/justinstewart/anaconda2/lib/python2.7/site-packages/pandas/core/indexing.pyc\u001b[0m in \u001b[0;36m__getitem__\u001b[0;34m(self, key)\u001b[0m\n\u001b[1;32m   1196\u001b[0m             \u001b[0;32mreturn\u001b[0m \u001b[0mself\u001b[0m\u001b[0;34m.\u001b[0m\u001b[0m_getitem_tuple\u001b[0m\u001b[0;34m(\u001b[0m\u001b[0mkey\u001b[0m\u001b[0;34m)\u001b[0m\u001b[0;34m\u001b[0m\u001b[0m\n\u001b[1;32m   1197\u001b[0m         \u001b[0;32melse\u001b[0m\u001b[0;34m:\u001b[0m\u001b[0;34m\u001b[0m\u001b[0m\n\u001b[0;32m-> 1198\u001b[0;31m             \u001b[0;32mreturn\u001b[0m \u001b[0mself\u001b[0m\u001b[0;34m.\u001b[0m\u001b[0m_getitem_axis\u001b[0m\u001b[0;34m(\u001b[0m\u001b[0mkey\u001b[0m\u001b[0;34m,\u001b[0m \u001b[0maxis\u001b[0m\u001b[0;34m=\u001b[0m\u001b[0;36m0\u001b[0m\u001b[0;34m)\u001b[0m\u001b[0;34m\u001b[0m\u001b[0m\n\u001b[0m\u001b[1;32m   1199\u001b[0m \u001b[0;34m\u001b[0m\u001b[0m\n\u001b[1;32m   1200\u001b[0m     \u001b[0;32mdef\u001b[0m \u001b[0m_getitem_axis\u001b[0m\u001b[0;34m(\u001b[0m\u001b[0mself\u001b[0m\u001b[0;34m,\u001b[0m \u001b[0mkey\u001b[0m\u001b[0;34m,\u001b[0m \u001b[0maxis\u001b[0m\u001b[0;34m=\u001b[0m\u001b[0;36m0\u001b[0m\u001b[0;34m)\u001b[0m\u001b[0;34m:\u001b[0m\u001b[0;34m\u001b[0m\u001b[0m\n",
      "\u001b[0;32m/Users/justinstewart/anaconda2/lib/python2.7/site-packages/pandas/core/indexing.pyc\u001b[0m in \u001b[0;36m_getitem_axis\u001b[0;34m(self, key, axis)\u001b[0m\n\u001b[1;32m   1340\u001b[0m \u001b[0;34m\u001b[0m\u001b[0m\n\u001b[1;32m   1341\u001b[0m         \u001b[0;31m# fall thru to straight lookup\u001b[0m\u001b[0;34m\u001b[0m\u001b[0;34m\u001b[0m\u001b[0m\n\u001b[0;32m-> 1342\u001b[0;31m         \u001b[0mself\u001b[0m\u001b[0;34m.\u001b[0m\u001b[0m_has_valid_type\u001b[0m\u001b[0;34m(\u001b[0m\u001b[0mkey\u001b[0m\u001b[0;34m,\u001b[0m \u001b[0maxis\u001b[0m\u001b[0;34m)\u001b[0m\u001b[0;34m\u001b[0m\u001b[0m\n\u001b[0m\u001b[1;32m   1343\u001b[0m         \u001b[0;32mreturn\u001b[0m \u001b[0mself\u001b[0m\u001b[0;34m.\u001b[0m\u001b[0m_get_label\u001b[0m\u001b[0;34m(\u001b[0m\u001b[0mkey\u001b[0m\u001b[0;34m,\u001b[0m \u001b[0maxis\u001b[0m\u001b[0;34m=\u001b[0m\u001b[0maxis\u001b[0m\u001b[0;34m)\u001b[0m\u001b[0;34m\u001b[0m\u001b[0m\n\u001b[1;32m   1344\u001b[0m \u001b[0;34m\u001b[0m\u001b[0m\n",
      "\u001b[0;32m/Users/justinstewart/anaconda2/lib/python2.7/site-packages/pandas/core/indexing.pyc\u001b[0m in \u001b[0;36m_has_valid_type\u001b[0;34m(self, key, axis)\u001b[0m\n\u001b[1;32m   1302\u001b[0m                 \u001b[0;32mraise\u001b[0m\u001b[0;34m\u001b[0m\u001b[0m\n\u001b[1;32m   1303\u001b[0m             \u001b[0;32mexcept\u001b[0m\u001b[0;34m:\u001b[0m\u001b[0;34m\u001b[0m\u001b[0m\n\u001b[0;32m-> 1304\u001b[0;31m                 \u001b[0merror\u001b[0m\u001b[0;34m(\u001b[0m\u001b[0;34m)\u001b[0m\u001b[0;34m\u001b[0m\u001b[0m\n\u001b[0m\u001b[1;32m   1305\u001b[0m \u001b[0;34m\u001b[0m\u001b[0m\n\u001b[1;32m   1306\u001b[0m         \u001b[0;32mreturn\u001b[0m \u001b[0mTrue\u001b[0m\u001b[0;34m\u001b[0m\u001b[0m\n",
      "\u001b[0;32m/Users/justinstewart/anaconda2/lib/python2.7/site-packages/pandas/core/indexing.pyc\u001b[0m in \u001b[0;36merror\u001b[0;34m()\u001b[0m\n\u001b[1;32m   1289\u001b[0m                         \"cannot use label indexing with a null key\")\n\u001b[1;32m   1290\u001b[0m                 raise KeyError(\"the label [%s] is not in the [%s]\" %\n\u001b[0;32m-> 1291\u001b[0;31m                                (key, self.obj._get_axis_name(axis)))\n\u001b[0m\u001b[1;32m   1292\u001b[0m \u001b[0;34m\u001b[0m\u001b[0m\n\u001b[1;32m   1293\u001b[0m             \u001b[0;32mtry\u001b[0m\u001b[0;34m:\u001b[0m\u001b[0;34m\u001b[0m\u001b[0m\n",
      "\u001b[0;31mKeyError\u001b[0m: 'the label [1] is not in the [index]'"
     ]
    }
   ],
   "source": [
    "for i in range(2):\n",
    "    vals = movie_weeks[i]\n",
    "    col_names = [name+'_%s'% str(i+1) for name in names]\n",
    "    test = pd.concat([test.loc[i],pd.DataFrame(vals,col_names)])\n",
    "    "
   ]
  },
  {
   "cell_type": "code",
   "execution_count": 476,
   "metadata": {
    "collapsed": false
   },
   "outputs": [
    {
     "data": {
      "text/html": [
       "<div>\n",
       "<table border=\"1\" class=\"dataframe\">\n",
       "  <thead>\n",
       "    <tr style=\"text-align: right;\">\n",
       "      <th></th>\n",
       "      <th>0</th>\n",
       "    </tr>\n",
       "  </thead>\n",
       "  <tbody>\n",
       "    <tr>\n",
       "      <th>title</th>\n",
       "      <td>The A-Team</td>\n",
       "    </tr>\n",
       "    <tr>\n",
       "      <th>domestic_total</th>\n",
       "      <td>77222099</td>\n",
       "    </tr>\n",
       "    <tr>\n",
       "      <th>runtime</th>\n",
       "      <td>117</td>\n",
       "    </tr>\n",
       "    <tr>\n",
       "      <th>rating</th>\n",
       "      <td>PG-13</td>\n",
       "    </tr>\n",
       "    <tr>\n",
       "      <th>release_date</th>\n",
       "      <td>2010-06-11 00:00:00</td>\n",
       "    </tr>\n",
       "    <tr>\n",
       "      <th>num_weeks</th>\n",
       "      <td>14</td>\n",
       "    </tr>\n",
       "    <tr>\n",
       "      <th>weekly_data</th>\n",
       "      <td>{u'weekly_gross': [36022270, 20820708, 9247972...</td>\n",
       "    </tr>\n",
       "    <tr>\n",
       "      <th>weekly_gross_1</th>\n",
       "      <td>36022270</td>\n",
       "    </tr>\n",
       "    <tr>\n",
       "      <th>num_theaters_1</th>\n",
       "      <td>3535</td>\n",
       "    </tr>\n",
       "    <tr>\n",
       "      <th>rank_1</th>\n",
       "      <td>2</td>\n",
       "    </tr>\n",
       "    <tr>\n",
       "      <th>week_num_1</th>\n",
       "      <td>1</td>\n",
       "    </tr>\n",
       "  </tbody>\n",
       "</table>\n",
       "</div>"
      ],
      "text/plain": [
       "                                                                0\n",
       "title                                                  The A-Team\n",
       "domestic_total                                           77222099\n",
       "runtime                                                       117\n",
       "rating                                                      PG-13\n",
       "release_date                                  2010-06-11 00:00:00\n",
       "num_weeks                                                      14\n",
       "weekly_data     {u'weekly_gross': [36022270, 20820708, 9247972...\n",
       "weekly_gross_1                                           36022270\n",
       "num_theaters_1                                               3535\n",
       "rank_1                                                          2\n",
       "week_num_1                                                      1"
      ]
     },
     "execution_count": 476,
     "metadata": {},
     "output_type": "execute_result"
    }
   ],
   "source": [
    "pd.concat([test.loc[0],pd.DataFrame(x[0],new_names)],axis= 0)"
   ]
  },
  {
   "cell_type": "code",
   "execution_count": 450,
   "metadata": {
    "collapsed": false
   },
   "outputs": [
    {
     "data": {
      "text/html": [
       "<div>\n",
       "<table border=\"1\" class=\"dataframe\">\n",
       "  <thead>\n",
       "    <tr style=\"text-align: right;\">\n",
       "      <th></th>\n",
       "      <th>title</th>\n",
       "      <th>domestic_total</th>\n",
       "      <th>runtime</th>\n",
       "      <th>rating</th>\n",
       "      <th>release_date</th>\n",
       "      <th>num_weeks</th>\n",
       "      <th>weekly_data</th>\n",
       "    </tr>\n",
       "  </thead>\n",
       "  <tbody>\n",
       "    <tr>\n",
       "      <th>0</th>\n",
       "      <td>The A-Team</td>\n",
       "      <td>77222099</td>\n",
       "      <td>117</td>\n",
       "      <td>PG-13</td>\n",
       "      <td>2010-06-11</td>\n",
       "      <td>14</td>\n",
       "      <td>{u'weekly_gross': [36022270, 20820708, 9247972...</td>\n",
       "    </tr>\n",
       "    <tr>\n",
       "      <th>1</th>\n",
       "      <td>A.C.O.D.</td>\n",
       "      <td>175705</td>\n",
       "      <td>88</td>\n",
       "      <td>PG-13</td>\n",
       "      <td>2013-10-04</td>\n",
       "      <td>5</td>\n",
       "      <td>{u'weekly_gross': [26439, 48909, 64916, 24656,...</td>\n",
       "    </tr>\n",
       "    <tr>\n",
       "      <th>2</th>\n",
       "      <td>A.I. Artificial Intelligence</td>\n",
       "      <td>78616689</td>\n",
       "      <td>145</td>\n",
       "      <td>PG-13</td>\n",
       "      <td>2001-06-29</td>\n",
       "      <td>11</td>\n",
       "      <td>{u'weekly_gross': [45535716, 19346848, 7471014...</td>\n",
       "    </tr>\n",
       "    <tr>\n",
       "      <th>4</th>\n",
       "      <td>Aarakshan</td>\n",
       "      <td>651096</td>\n",
       "      <td>NaN</td>\n",
       "      <td>Unrated</td>\n",
       "      <td>2011-08-12</td>\n",
       "      <td>6</td>\n",
       "      <td>{u'weekly_gross': [440710, 159031, 39141, 1011...</td>\n",
       "    </tr>\n",
       "    <tr>\n",
       "      <th>5</th>\n",
       "      <td>Aatsinki: The Story of Arctic Cowboys</td>\n",
       "      <td>6601</td>\n",
       "      <td>85</td>\n",
       "      <td>Unrated</td>\n",
       "      <td>2014-01-24</td>\n",
       "      <td>6</td>\n",
       "      <td>{u'weekly_gross': [5359, 1242], u'num_theaters...</td>\n",
       "    </tr>\n",
       "    <tr>\n",
       "      <th>6</th>\n",
       "      <td>Abandon</td>\n",
       "      <td>10727683</td>\n",
       "      <td>99</td>\n",
       "      <td>PG-13</td>\n",
       "      <td>2002-10-18</td>\n",
       "      <td>9</td>\n",
       "      <td>{u'weekly_gross': [6023852, 2919275, 1149922, ...</td>\n",
       "    </tr>\n",
       "    <tr>\n",
       "      <th>8</th>\n",
       "      <td>ABCD</td>\n",
       "      <td>222098</td>\n",
       "      <td>145</td>\n",
       "      <td>Unrated</td>\n",
       "      <td>2013-02-08</td>\n",
       "      <td>4</td>\n",
       "      <td>{u'weekly_gross': [126154, 76711, 18176, 1057]...</td>\n",
       "    </tr>\n",
       "    <tr>\n",
       "      <th>9</th>\n",
       "      <td>ABCD</td>\n",
       "      <td>892133</td>\n",
       "      <td>154</td>\n",
       "      <td>Unrated</td>\n",
       "      <td>2015-06-19</td>\n",
       "      <td>4</td>\n",
       "      <td>{u'weekly_gross': [614396, 227713, 40239, 9785...</td>\n",
       "    </tr>\n",
       "    <tr>\n",
       "      <th>10</th>\n",
       "      <td>ABCs of Death 2</td>\n",
       "      <td>7171</td>\n",
       "      <td>NaN</td>\n",
       "      <td>Unrated</td>\n",
       "      <td>2014-10-31</td>\n",
       "      <td>4</td>\n",
       "      <td>{u'weekly_gross': [4944, 1661, 154, 412], u'nu...</td>\n",
       "    </tr>\n",
       "    <tr>\n",
       "      <th>11</th>\n",
       "      <td>Abduction</td>\n",
       "      <td>28087155</td>\n",
       "      <td>106</td>\n",
       "      <td>PG-13</td>\n",
       "      <td>2011-09-23</td>\n",
       "      <td>12</td>\n",
       "      <td>{u'weekly_gross': [13489188, 6979954, 3882349,...</td>\n",
       "    </tr>\n",
       "  </tbody>\n",
       "</table>\n",
       "</div>"
      ],
      "text/plain": [
       "                                    title  domestic_total  runtime   rating  \\\n",
       "0                              The A-Team        77222099      117    PG-13   \n",
       "1                                A.C.O.D.          175705       88    PG-13   \n",
       "2            A.I. Artificial Intelligence        78616689      145    PG-13   \n",
       "4                               Aarakshan          651096      NaN  Unrated   \n",
       "5   Aatsinki: The Story of Arctic Cowboys            6601       85  Unrated   \n",
       "6                                 Abandon        10727683       99    PG-13   \n",
       "8                                    ABCD          222098      145  Unrated   \n",
       "9                                    ABCD          892133      154  Unrated   \n",
       "10                        ABCs of Death 2            7171      NaN  Unrated   \n",
       "11                              Abduction        28087155      106    PG-13   \n",
       "\n",
       "   release_date  num_weeks                                        weekly_data  \n",
       "0    2010-06-11         14  {u'weekly_gross': [36022270, 20820708, 9247972...  \n",
       "1    2013-10-04          5  {u'weekly_gross': [26439, 48909, 64916, 24656,...  \n",
       "2    2001-06-29         11  {u'weekly_gross': [45535716, 19346848, 7471014...  \n",
       "4    2011-08-12          6  {u'weekly_gross': [440710, 159031, 39141, 1011...  \n",
       "5    2014-01-24          6  {u'weekly_gross': [5359, 1242], u'num_theaters...  \n",
       "6    2002-10-18          9  {u'weekly_gross': [6023852, 2919275, 1149922, ...  \n",
       "8    2013-02-08          4  {u'weekly_gross': [126154, 76711, 18176, 1057]...  \n",
       "9    2015-06-19          4  {u'weekly_gross': [614396, 227713, 40239, 9785...  \n",
       "10   2014-10-31          4  {u'weekly_gross': [4944, 1661, 154, 412], u'nu...  \n",
       "11   2011-09-23         12  {u'weekly_gross': [13489188, 6979954, 3882349,...  "
      ]
     },
     "execution_count": 450,
     "metadata": {},
     "output_type": "execute_result"
    }
   ],
   "source": []
  },
  {
   "cell_type": "code",
   "execution_count": 334,
   "metadata": {
    "collapsed": false
   },
   "outputs": [],
   "source": [
    "data = get_features(df,1)"
   ]
  },
  {
   "cell_type": "markdown",
   "metadata": {},
   "source": [
    "# Need to build a smarter way to deal with missing values"
   ]
  },
  {
   "cell_type": "code",
   "execution_count": 335,
   "metadata": {
    "collapsed": true
   },
   "outputs": [],
   "source": [
    "test = data[['num_weeks','weekly_gross1','num_theaters1','rank1']]"
   ]
  },
  {
   "cell_type": "code",
   "execution_count": 342,
   "metadata": {
    "collapsed": false
   },
   "outputs": [],
   "source": [
    "test = test.dropna()"
   ]
  },
  {
   "cell_type": "code",
   "execution_count": 346,
   "metadata": {
    "collapsed": false
   },
   "outputs": [
    {
     "data": {
      "text/plain": [
       "4871"
      ]
     },
     "execution_count": 346,
     "metadata": {},
     "output_type": "execute_result"
    }
   ],
   "source": [
    "len(test)"
   ]
  },
  {
   "cell_type": "code",
   "execution_count": 347,
   "metadata": {
    "collapsed": true
   },
   "outputs": [],
   "source": [
    "X = test[['weekly_gross1','num_theaters1','rank1']]"
   ]
  },
  {
   "cell_type": "code",
   "execution_count": 348,
   "metadata": {
    "collapsed": false
   },
   "outputs": [],
   "source": [
    "y = test['num_weeks']"
   ]
  },
  {
   "cell_type": "code",
   "execution_count": 349,
   "metadata": {
    "collapsed": true
   },
   "outputs": [],
   "source": [
    "with open('regression_data.pkl', 'wb') as output:\n",
    "    pickle.dump((y,X), output, pickle.HIGHEST_PROTOCOL)"
   ]
  }
 ],
 "metadata": {
  "kernelspec": {
   "display_name": "Python 2",
   "language": "python",
   "name": "python2"
  },
  "language_info": {
   "codemirror_mode": {
    "name": "ipython",
    "version": 2
   },
   "file_extension": ".py",
   "mimetype": "text/x-python",
   "name": "python",
   "nbconvert_exporter": "python",
   "pygments_lexer": "ipython2",
   "version": "2.7.10"
  }
 },
 "nbformat": 4,
 "nbformat_minor": 0
}
