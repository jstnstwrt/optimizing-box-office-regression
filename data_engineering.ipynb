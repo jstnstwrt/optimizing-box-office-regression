{
 "cells": [
  {
   "cell_type": "code",
   "execution_count": 71,
   "metadata": {
    "collapsed": true
   },
   "outputs": [],
   "source": [
    "import pandas as pd\n",
    "import numpy as np\n",
    "from matplotlib as plt\n",
    "from pprint import pprint\n",
    "import pickle\n",
    "%matplotlib inline"
   ]
  },
  {
   "cell_type": "code",
   "execution_count": 2,
   "metadata": {
    "collapsed": true
   },
   "outputs": [],
   "source": [
    "# movie_data = pickle.load( open( \"movie_data.pkl\", \"rb\" ) )"
   ]
  },
  {
   "cell_type": "markdown",
   "metadata": {},
   "source": [
    "maybe need to through out movies that are currently in theatres, because this data wont be accurate for those data points"
   ]
  },
  {
   "cell_type": "code",
   "execution_count": 173,
   "metadata": {
    "collapsed": true
   },
   "outputs": [],
   "source": [
    "\n",
    "movie_keys = ['title','domestic_total', 'runtime','rating', 'release_date' ]\n",
    "weekly_keys = ['rank','num_theaters','weekly_gross', 'week_num']"
   ]
  },
  {
   "cell_type": "code",
   "execution_count": 195,
   "metadata": {
    "collapsed": false
   },
   "outputs": [],
   "source": [
    "def parse_value(num):\n",
    "    try:\n",
    "        num = int(num.replace('$', '').replace(',', ''))\n",
    "    except:\n",
    "        num = np.nan\n",
    "    return num\n",
    "    "
   ]
  },
  {
   "cell_type": "code",
   "execution_count": 196,
   "metadata": {
    "collapsed": true
   },
   "outputs": [],
   "source": [
    "def parse_weekly_data(weekly_dict):\n",
    "    '''a function that creates the attributes that are a function \n",
    "       of the weekly data (e.g., drop_off_rate) and others. Minimum case yields\n",
    "       the number of weeks in theatres.\n",
    "    '''\n",
    "    weeks = {}\n",
    "    weekly_keys = ['rank','num_theaters','weekly_gross', 'week_num']\n",
    "    for key in weekly_keys:\n",
    "        weeks[key] = [parse_value(x) for x in weekly_dict[key]]\n",
    "    return weeks"
   ]
  },
  {
   "cell_type": "code",
   "execution_count": 210,
   "metadata": {
    "collapsed": true
   },
   "outputs": [],
   "source": [
    "def parse_movie_data(movie_data):\n",
    "    ''' Takes a dict of a movie scraped from Box Office Mojo and generates\n",
    "        a row of for each feature to be added to the dataframe.\n",
    "    '''\n",
    "    mvp_movie_data = []\n",
    "    for movie_dict in movie_data:\n",
    "        # Only keep movies with correct initial values.\n",
    "        if '1' == movie_dict['weekly_data']['week_num'][0]:\n",
    "            movie = [movie_dict[key] for key in movie_keys]\n",
    "            movie.append(max([int(x) for x in movie_dict['weekly_data']['week_num']]))\n",
    "            movie.append(parse_weekly_data(movie_dict['weekly_data']))\n",
    "            mvp_movie_data.append(movie) \n",
    "    return pd.DataFrame(mvp_movie_data)"
   ]
  },
  {
   "cell_type": "code",
   "execution_count": 211,
   "metadata": {
    "collapsed": false
   },
   "outputs": [],
   "source": [
    "df = parse_movie_data(movie_data)"
   ]
  },
  {
   "cell_type": "markdown",
   "metadata": {},
   "source": [
    "Subsetted the data set to only include movies with data that started at week 1!"
   ]
  },
  {
   "cell_type": "code",
   "execution_count": 213,
   "metadata": {
    "collapsed": true
   },
   "outputs": [],
   "source": [
    "names = movie_keys + ['num_weeks','weekly_data']\n",
    "df.columns = names"
   ]
  },
  {
   "cell_type": "markdown",
   "metadata": {},
   "source": [
    "Subset set df so that every movie ran for at least 2 weeks, otherwise, there would be nothing to predict for movies that ended in the first week. "
   ]
  },
  {
   "cell_type": "code",
   "execution_count": 214,
   "metadata": {
    "collapsed": false
   },
   "outputs": [],
   "source": [
    "df = df[df['num_weeks']>2]"
   ]
  },
  {
   "cell_type": "code",
   "execution_count": 215,
   "metadata": {
    "collapsed": false
   },
   "outputs": [
    {
     "data": {
      "text/html": [
       "<div>\n",
       "<table border=\"1\" class=\"dataframe\">\n",
       "  <thead>\n",
       "    <tr style=\"text-align: right;\">\n",
       "      <th></th>\n",
       "      <th>title</th>\n",
       "      <th>domestic_total</th>\n",
       "      <th>runtime</th>\n",
       "      <th>rating</th>\n",
       "      <th>release_date</th>\n",
       "      <th>num_weeks</th>\n",
       "      <th>weekly_data</th>\n",
       "    </tr>\n",
       "  </thead>\n",
       "  <tbody>\n",
       "    <tr>\n",
       "      <th>0</th>\n",
       "      <td>The A-Team</td>\n",
       "      <td>77222099</td>\n",
       "      <td>117</td>\n",
       "      <td>PG-13</td>\n",
       "      <td>2010-06-11</td>\n",
       "      <td>14</td>\n",
       "      <td>{u'weekly_gross': [36022270, 20820708, 9247972...</td>\n",
       "    </tr>\n",
       "    <tr>\n",
       "      <th>1</th>\n",
       "      <td>A.C.O.D.</td>\n",
       "      <td>175705</td>\n",
       "      <td>88</td>\n",
       "      <td>PG-13</td>\n",
       "      <td>2013-10-04</td>\n",
       "      <td>5</td>\n",
       "      <td>{u'weekly_gross': [26439, 48909, 64916, 24656,...</td>\n",
       "    </tr>\n",
       "    <tr>\n",
       "      <th>2</th>\n",
       "      <td>A.I. Artificial Intelligence</td>\n",
       "      <td>78616689</td>\n",
       "      <td>145</td>\n",
       "      <td>PG-13</td>\n",
       "      <td>2001-06-29</td>\n",
       "      <td>11</td>\n",
       "      <td>{u'weekly_gross': [45535716, 19346848, 7471014...</td>\n",
       "    </tr>\n",
       "    <tr>\n",
       "      <th>3</th>\n",
       "      <td>Aaja Nachle</td>\n",
       "      <td>484108</td>\n",
       "      <td>145</td>\n",
       "      <td>Unrated</td>\n",
       "      <td>2007-11-30</td>\n",
       "      <td>3</td>\n",
       "      <td>{u'weekly_gross': [310893, 132908, 40307], u'n...</td>\n",
       "    </tr>\n",
       "    <tr>\n",
       "      <th>4</th>\n",
       "      <td>Aarakshan</td>\n",
       "      <td>651096</td>\n",
       "      <td>NaN</td>\n",
       "      <td>Unrated</td>\n",
       "      <td>2011-08-12</td>\n",
       "      <td>6</td>\n",
       "      <td>{u'weekly_gross': [440710, 159031, 39141, 1011...</td>\n",
       "    </tr>\n",
       "  </tbody>\n",
       "</table>\n",
       "</div>"
      ],
      "text/plain": [
       "                          title  domestic_total  runtime   rating  \\\n",
       "0                    The A-Team        77222099      117    PG-13   \n",
       "1                      A.C.O.D.          175705       88    PG-13   \n",
       "2  A.I. Artificial Intelligence        78616689      145    PG-13   \n",
       "3                   Aaja Nachle          484108      145  Unrated   \n",
       "4                     Aarakshan          651096      NaN  Unrated   \n",
       "\n",
       "  release_date  num_weeks                                        weekly_data  \n",
       "0   2010-06-11         14  {u'weekly_gross': [36022270, 20820708, 9247972...  \n",
       "1   2013-10-04          5  {u'weekly_gross': [26439, 48909, 64916, 24656,...  \n",
       "2   2001-06-29         11  {u'weekly_gross': [45535716, 19346848, 7471014...  \n",
       "3   2007-11-30          3  {u'weekly_gross': [310893, 132908, 40307], u'n...  \n",
       "4   2011-08-12          6  {u'weekly_gross': [440710, 159031, 39141, 1011...  "
      ]
     },
     "execution_count": 215,
     "metadata": {},
     "output_type": "execute_result"
    }
   ],
   "source": [
    "df.head()"
   ]
  },
  {
   "cell_type": "code",
   "execution_count": 268,
   "metadata": {
    "collapsed": false
   },
   "outputs": [],
   "source": [
    "def get_features(df,current_week_num):\n",
    "    ''' This function takes the main dataframe and a current week number and\n",
    "        dynamically generates the full feature set by parsing the weekly data dict.\n",
    "    '''\n",
    "    new_data = []\n",
    "    current_week_num = 1\n",
    "    x = df[df['num_weeks']>current_week_num]\n",
    "    for row in x.as_matrix():\n",
    "        new_vals = [vals[current_week_num -1 ] for vals in row[6].values()]\n",
    "        new_data.append(new_vals)\n",
    "    d = pd.DataFrame(new_data)\n",
    "    names = [s + str(current_week_num) for s in row[6].keys()]\n",
    "    d.columns = names\n",
    "    features = pd.concat([x, d], axis=1)\n",
    "    return features"
   ]
  },
  {
   "cell_type": "code",
   "execution_count": 334,
   "metadata": {
    "collapsed": false
   },
   "outputs": [],
   "source": [
    "data = get_features(df,1)"
   ]
  },
  {
   "cell_type": "markdown",
   "metadata": {},
   "source": [
    "# Need to build a smarter way to deal with missing values"
   ]
  },
  {
   "cell_type": "code",
   "execution_count": 335,
   "metadata": {
    "collapsed": true
   },
   "outputs": [],
   "source": [
    "test = data[['num_weeks','weekly_gross1','num_theaters1','rank1']]"
   ]
  },
  {
   "cell_type": "code",
   "execution_count": 342,
   "metadata": {
    "collapsed": false
   },
   "outputs": [],
   "source": [
    "test = test.dropna()"
   ]
  },
  {
   "cell_type": "code",
   "execution_count": 346,
   "metadata": {
    "collapsed": false
   },
   "outputs": [
    {
     "data": {
      "text/plain": [
       "4871"
      ]
     },
     "execution_count": 346,
     "metadata": {},
     "output_type": "execute_result"
    }
   ],
   "source": [
    "len(test)"
   ]
  },
  {
   "cell_type": "code",
   "execution_count": 347,
   "metadata": {
    "collapsed": true
   },
   "outputs": [],
   "source": [
    "X = test[['weekly_gross1','num_theaters1','rank1']]"
   ]
  },
  {
   "cell_type": "code",
   "execution_count": 348,
   "metadata": {
    "collapsed": false
   },
   "outputs": [],
   "source": [
    "y = test['num_weeks']"
   ]
  },
  {
   "cell_type": "code",
   "execution_count": 349,
   "metadata": {
    "collapsed": true
   },
   "outputs": [],
   "source": [
    "with open('regression_data.pkl', 'wb') as output:\n",
    "    pickle.dump((y,X), output, pickle.HIGHEST_PROTOCOL)"
   ]
  }
 ],
 "metadata": {
  "kernelspec": {
   "display_name": "Python 2",
   "language": "python",
   "name": "python2"
  },
  "language_info": {
   "codemirror_mode": {
    "name": "ipython",
    "version": 2
   },
   "file_extension": ".py",
   "mimetype": "text/x-python",
   "name": "python",
   "nbconvert_exporter": "python",
   "pygments_lexer": "ipython2",
   "version": "2.7.10"
  }
 },
 "nbformat": 4,
 "nbformat_minor": 0
}
