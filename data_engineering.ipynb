{
 "cells": [
  {
   "cell_type": "code",
   "execution_count": 71,
   "metadata": {
    "collapsed": true
   },
   "outputs": [],
   "source": [
    "import pandas as pd\n",
    "import numpy as np\n",
    "from matplotlib as plt\n",
    "from pprint import pprint\n",
    "import pickle\n",
    "%matplotlib inline"
   ]
  },
  {
   "cell_type": "code",
   "execution_count": 2,
   "metadata": {
    "collapsed": true
   },
   "outputs": [],
   "source": [
    "# movie_data = pickle.load( open( \"movie_data.pkl\", \"rb\" ) )"
   ]
  },
  {
   "cell_type": "markdown",
   "metadata": {},
   "source": [
    "maybe need to through out movies that are currently in theatres, because this data wont be accurate for those data points"
   ]
  },
  {
   "cell_type": "code",
   "execution_count": 173,
   "metadata": {
    "collapsed": true
   },
   "outputs": [],
   "source": [
    "\n",
    "movie_keys = ['title','domestic_total', 'runtime','rating', 'release_date' ]\n",
    "weekly_keys = ['rank','num_theaters','weekly_gross', 'week_num']"
   ]
  },
  {
   "cell_type": "code",
   "execution_count": 195,
   "metadata": {
    "collapsed": false
   },
   "outputs": [],
   "source": [
    "def parse_value(num):\n",
    "    try:\n",
    "        num = int(num.replace('$', '').replace(',', ''))\n",
    "    except:\n",
    "        num = np.nan\n",
    "    return num\n",
    "    "
   ]
  },
  {
   "cell_type": "code",
   "execution_count": 196,
   "metadata": {
    "collapsed": true
   },
   "outputs": [],
   "source": [
    "def parse_weekly_data(weekly_dict):\n",
    "    '''a function that creates the attributes that are a function \n",
    "       of the weekly data (e.g., drop_off_rate) and others. Minimum case yields\n",
    "       the number of weeks in theatres.\n",
    "    '''\n",
    "    weeks = {}\n",
    "    weekly_keys = ['rank','num_theaters','weekly_gross', 'week_num']\n",
    "    for key in weekly_keys:\n",
    "        weeks[key] = [parse_value(x) for x in weekly_dict[key]]\n",
    "    return weeks"
   ]
  },
  {
   "cell_type": "code",
   "execution_count": 210,
   "metadata": {
    "collapsed": true
   },
   "outputs": [],
   "source": [
    "def parse_movie_data(movie_data):\n",
    "    ''' Takes a dict of a movie scraped from Box Office Mojo and generates\n",
    "        a row of for each feature to be added to the dataframe.\n",
    "    '''\n",
    "    mvp_movie_data = []\n",
    "    for movie_dict in movie_data:\n",
    "        # Only keep movies with correct initial values.\n",
    "        if '1' == movie_dict['weekly_data']['week_num'][0]:\n",
    "            movie = [movie_dict[key] for key in movie_keys]\n",
    "            movie.append(max([int(x) for x in movie_dict['weekly_data']['week_num']]))\n",
    "            movie.append(parse_weekly_data(movie_dict['weekly_data']))\n",
    "            mvp_movie_data.append(movie) \n",
    "    return pd.DataFrame(mvp_movie_data)"
   ]
  },
  {
   "cell_type": "code",
   "execution_count": 211,
   "metadata": {
    "collapsed": false
   },
   "outputs": [],
   "source": [
    "df = parse_movie_data(movie_data)"
   ]
  },
  {
   "cell_type": "markdown",
   "metadata": {},
   "source": [
    "Subsetted the data set to only include movies with data that started at week 1!"
   ]
  },
  {
   "cell_type": "code",
   "execution_count": 213,
   "metadata": {
    "collapsed": true
   },
   "outputs": [],
   "source": [
    "names = movie_keys + ['num_weeks','weekly_data']\n",
    "df.columns = names"
   ]
  },
  {
   "cell_type": "markdown",
   "metadata": {},
   "source": [
    "Subset set df so that every movie ran for at least 2 weeks, otherwise, there would be nothing to predict for movies that ended in the first week. "
   ]
  },
  {
   "cell_type": "code",
   "execution_count": 214,
   "metadata": {
    "collapsed": false
   },
   "outputs": [],
   "source": [
    "df = df[df['num_weeks']>2]"
   ]
  },
  {
   "cell_type": "code",
   "execution_count": 215,
   "metadata": {
    "collapsed": false
   },
   "outputs": [
    {
     "data": {
      "text/html": [
       "<div>\n",
       "<table border=\"1\" class=\"dataframe\">\n",
       "  <thead>\n",
       "    <tr style=\"text-align: right;\">\n",
       "      <th></th>\n",
       "      <th>title</th>\n",
       "      <th>domestic_total</th>\n",
       "      <th>runtime</th>\n",
       "      <th>rating</th>\n",
       "      <th>release_date</th>\n",
       "      <th>num_weeks</th>\n",
       "      <th>weekly_data</th>\n",
       "    </tr>\n",
       "  </thead>\n",
       "  <tbody>\n",
       "    <tr>\n",
       "      <th>0</th>\n",
       "      <td>The A-Team</td>\n",
       "      <td>77222099</td>\n",
       "      <td>117</td>\n",
       "      <td>PG-13</td>\n",
       "      <td>2010-06-11</td>\n",
       "      <td>14</td>\n",
       "      <td>{u'weekly_gross': [36022270, 20820708, 9247972...</td>\n",
       "    </tr>\n",
       "    <tr>\n",
       "      <th>1</th>\n",
       "      <td>A.C.O.D.</td>\n",
       "      <td>175705</td>\n",
       "      <td>88</td>\n",
       "      <td>PG-13</td>\n",
       "      <td>2013-10-04</td>\n",
       "      <td>5</td>\n",
       "      <td>{u'weekly_gross': [26439, 48909, 64916, 24656,...</td>\n",
       "    </tr>\n",
       "    <tr>\n",
       "      <th>2</th>\n",
       "      <td>A.I. Artificial Intelligence</td>\n",
       "      <td>78616689</td>\n",
       "      <td>145</td>\n",
       "      <td>PG-13</td>\n",
       "      <td>2001-06-29</td>\n",
       "      <td>11</td>\n",
       "      <td>{u'weekly_gross': [45535716, 19346848, 7471014...</td>\n",
       "    </tr>\n",
       "    <tr>\n",
       "      <th>3</th>\n",
       "      <td>Aaja Nachle</td>\n",
       "      <td>484108</td>\n",
       "      <td>145</td>\n",
       "      <td>Unrated</td>\n",
       "      <td>2007-11-30</td>\n",
       "      <td>3</td>\n",
       "      <td>{u'weekly_gross': [310893, 132908, 40307], u'n...</td>\n",
       "    </tr>\n",
       "    <tr>\n",
       "      <th>4</th>\n",
       "      <td>Aarakshan</td>\n",
       "      <td>651096</td>\n",
       "      <td>NaN</td>\n",
       "      <td>Unrated</td>\n",
       "      <td>2011-08-12</td>\n",
       "      <td>6</td>\n",
       "      <td>{u'weekly_gross': [440710, 159031, 39141, 1011...</td>\n",
       "    </tr>\n",
       "  </tbody>\n",
       "</table>\n",
       "</div>"
      ],
      "text/plain": [
       "                          title  domestic_total  runtime   rating  \\\n",
       "0                    The A-Team        77222099      117    PG-13   \n",
       "1                      A.C.O.D.          175705       88    PG-13   \n",
       "2  A.I. Artificial Intelligence        78616689      145    PG-13   \n",
       "3                   Aaja Nachle          484108      145  Unrated   \n",
       "4                     Aarakshan          651096      NaN  Unrated   \n",
       "\n",
       "  release_date  num_weeks                                        weekly_data  \n",
       "0   2010-06-11         14  {u'weekly_gross': [36022270, 20820708, 9247972...  \n",
       "1   2013-10-04          5  {u'weekly_gross': [26439, 48909, 64916, 24656,...  \n",
       "2   2001-06-29         11  {u'weekly_gross': [45535716, 19346848, 7471014...  \n",
       "3   2007-11-30          3  {u'weekly_gross': [310893, 132908, 40307], u'n...  \n",
       "4   2011-08-12          6  {u'weekly_gross': [440710, 159031, 39141, 1011...  "
      ]
     },
     "execution_count": 215,
     "metadata": {},
     "output_type": "execute_result"
    }
   ],
   "source": [
    "df.head()"
   ]
  },
  {
   "cell_type": "code",
   "execution_count": 268,
   "metadata": {
    "collapsed": false
   },
   "outputs": [],
   "source": [
    "def get_features(df,current_week_num):\n",
    "    ''' This function takes the main dataframe and a current week number and\n",
    "        dynamically generates the full feature set by parsing the weekly data dict.\n",
    "    '''\n",
    "    new_data = []\n",
    "    current_week_num = 1\n",
    "    x = df[df['num_weeks']>current_week_num]\n",
    "    for row in x.as_matrix():\n",
    "        new_vals = [vals[current_week_num -1 ] for vals in row[6].values()]\n",
    "        new_data.append(new_vals)\n",
    "    d = pd.DataFrame(new_data)\n",
    "    names = [s + str(current_week_num) for s in row[6].keys()]\n",
    "    d.columns = names\n",
    "    features = pd.concat([x, d], axis=1)\n",
    "    return features"
   ]
  },
  {
   "cell_type": "code",
   "execution_count": 270,
   "metadata": {
    "collapsed": false
   },
   "outputs": [],
   "source": [
    "X = get_features(df,1)"
   ]
  },
  {
   "cell_type": "code",
   "execution_count": 272,
   "metadata": {
    "collapsed": false
   },
   "outputs": [
    {
     "data": {
      "text/html": [
       "<div>\n",
       "<table border=\"1\" class=\"dataframe\">\n",
       "  <thead>\n",
       "    <tr style=\"text-align: right;\">\n",
       "      <th></th>\n",
       "      <th>title</th>\n",
       "      <th>domestic_total</th>\n",
       "      <th>runtime</th>\n",
       "      <th>rating</th>\n",
       "      <th>release_date</th>\n",
       "      <th>num_weeks</th>\n",
       "      <th>weekly_data</th>\n",
       "      <th>weekly_gross1</th>\n",
       "      <th>num_theaters1</th>\n",
       "      <th>rank1</th>\n",
       "      <th>week_num1</th>\n",
       "    </tr>\n",
       "  </thead>\n",
       "  <tbody>\n",
       "    <tr>\n",
       "      <th>0</th>\n",
       "      <td>The A-Team</td>\n",
       "      <td>77222099</td>\n",
       "      <td>117</td>\n",
       "      <td>PG-13</td>\n",
       "      <td>2010-06-11</td>\n",
       "      <td>14</td>\n",
       "      <td>{u'weekly_gross': [36022270, 20820708, 9247972...</td>\n",
       "      <td>36022270</td>\n",
       "      <td>3535</td>\n",
       "      <td>2</td>\n",
       "      <td>1</td>\n",
       "    </tr>\n",
       "    <tr>\n",
       "      <th>1</th>\n",
       "      <td>A.C.O.D.</td>\n",
       "      <td>175705</td>\n",
       "      <td>88</td>\n",
       "      <td>PG-13</td>\n",
       "      <td>2013-10-04</td>\n",
       "      <td>5</td>\n",
       "      <td>{u'weekly_gross': [26439, 48909, 64916, 24656,...</td>\n",
       "      <td>26439</td>\n",
       "      <td>3</td>\n",
       "      <td>61</td>\n",
       "      <td>1</td>\n",
       "    </tr>\n",
       "    <tr>\n",
       "      <th>2</th>\n",
       "      <td>A.I. Artificial Intelligence</td>\n",
       "      <td>78616689</td>\n",
       "      <td>145</td>\n",
       "      <td>PG-13</td>\n",
       "      <td>2001-06-29</td>\n",
       "      <td>11</td>\n",
       "      <td>{u'weekly_gross': [45535716, 19346848, 7471014...</td>\n",
       "      <td>45535716</td>\n",
       "      <td>3242</td>\n",
       "      <td>1</td>\n",
       "      <td>1</td>\n",
       "    </tr>\n",
       "    <tr>\n",
       "      <th>3</th>\n",
       "      <td>Aaja Nachle</td>\n",
       "      <td>484108</td>\n",
       "      <td>145</td>\n",
       "      <td>Unrated</td>\n",
       "      <td>2007-11-30</td>\n",
       "      <td>3</td>\n",
       "      <td>{u'weekly_gross': [310893, 132908, 40307], u'n...</td>\n",
       "      <td>310893</td>\n",
       "      <td>66</td>\n",
       "      <td>24</td>\n",
       "      <td>1</td>\n",
       "    </tr>\n",
       "    <tr>\n",
       "      <th>4</th>\n",
       "      <td>Aarakshan</td>\n",
       "      <td>651096</td>\n",
       "      <td>NaN</td>\n",
       "      <td>Unrated</td>\n",
       "      <td>2011-08-12</td>\n",
       "      <td>6</td>\n",
       "      <td>{u'weekly_gross': [440710, 159031, 39141, 1011...</td>\n",
       "      <td>440710</td>\n",
       "      <td>90</td>\n",
       "      <td>26</td>\n",
       "      <td>1</td>\n",
       "    </tr>\n",
       "    <tr>\n",
       "      <th>5</th>\n",
       "      <td>Aatsinki: The Story of Arctic Cowboys</td>\n",
       "      <td>6601</td>\n",
       "      <td>85</td>\n",
       "      <td>Unrated</td>\n",
       "      <td>2014-01-24</td>\n",
       "      <td>6</td>\n",
       "      <td>{u'weekly_gross': [5359, 1242], u'num_theaters...</td>\n",
       "      <td>5359</td>\n",
       "      <td>1</td>\n",
       "      <td>73</td>\n",
       "      <td>1</td>\n",
       "    </tr>\n",
       "    <tr>\n",
       "      <th>6</th>\n",
       "      <td>Abandon</td>\n",
       "      <td>10727683</td>\n",
       "      <td>99</td>\n",
       "      <td>PG-13</td>\n",
       "      <td>2002-10-18</td>\n",
       "      <td>9</td>\n",
       "      <td>{u'weekly_gross': [6023852, 2919275, 1149922, ...</td>\n",
       "      <td>6023852</td>\n",
       "      <td>2341</td>\n",
       "      <td>7</td>\n",
       "      <td>1</td>\n",
       "    </tr>\n",
       "    <tr>\n",
       "      <th>7</th>\n",
       "      <td>NaN</td>\n",
       "      <td>NaN</td>\n",
       "      <td>NaN</td>\n",
       "      <td>NaN</td>\n",
       "      <td>NaT</td>\n",
       "      <td>NaN</td>\n",
       "      <td>NaN</td>\n",
       "      <td>126154</td>\n",
       "      <td>25</td>\n",
       "      <td>NaN</td>\n",
       "      <td>1</td>\n",
       "    </tr>\n",
       "    <tr>\n",
       "      <th>8</th>\n",
       "      <td>ABCD</td>\n",
       "      <td>222098</td>\n",
       "      <td>145</td>\n",
       "      <td>Unrated</td>\n",
       "      <td>2013-02-08</td>\n",
       "      <td>4</td>\n",
       "      <td>{u'weekly_gross': [126154, 76711, 18176, 1057]...</td>\n",
       "      <td>614396</td>\n",
       "      <td>146</td>\n",
       "      <td>15</td>\n",
       "      <td>1</td>\n",
       "    </tr>\n",
       "    <tr>\n",
       "      <th>9</th>\n",
       "      <td>ABCD</td>\n",
       "      <td>892133</td>\n",
       "      <td>154</td>\n",
       "      <td>Unrated</td>\n",
       "      <td>2015-06-19</td>\n",
       "      <td>4</td>\n",
       "      <td>{u'weekly_gross': [614396, 227713, 40239, 9785...</td>\n",
       "      <td>4944</td>\n",
       "      <td>17</td>\n",
       "      <td>90</td>\n",
       "      <td>1</td>\n",
       "    </tr>\n",
       "  </tbody>\n",
       "</table>\n",
       "</div>"
      ],
      "text/plain": [
       "                                   title  domestic_total  runtime   rating  \\\n",
       "0                             The A-Team        77222099      117    PG-13   \n",
       "1                               A.C.O.D.          175705       88    PG-13   \n",
       "2           A.I. Artificial Intelligence        78616689      145    PG-13   \n",
       "3                            Aaja Nachle          484108      145  Unrated   \n",
       "4                              Aarakshan          651096      NaN  Unrated   \n",
       "5  Aatsinki: The Story of Arctic Cowboys            6601       85  Unrated   \n",
       "6                                Abandon        10727683       99    PG-13   \n",
       "7                                    NaN             NaN      NaN      NaN   \n",
       "8                                   ABCD          222098      145  Unrated   \n",
       "9                                   ABCD          892133      154  Unrated   \n",
       "\n",
       "  release_date  num_weeks                                        weekly_data  \\\n",
       "0   2010-06-11         14  {u'weekly_gross': [36022270, 20820708, 9247972...   \n",
       "1   2013-10-04          5  {u'weekly_gross': [26439, 48909, 64916, 24656,...   \n",
       "2   2001-06-29         11  {u'weekly_gross': [45535716, 19346848, 7471014...   \n",
       "3   2007-11-30          3  {u'weekly_gross': [310893, 132908, 40307], u'n...   \n",
       "4   2011-08-12          6  {u'weekly_gross': [440710, 159031, 39141, 1011...   \n",
       "5   2014-01-24          6  {u'weekly_gross': [5359, 1242], u'num_theaters...   \n",
       "6   2002-10-18          9  {u'weekly_gross': [6023852, 2919275, 1149922, ...   \n",
       "7          NaT        NaN                                                NaN   \n",
       "8   2013-02-08          4  {u'weekly_gross': [126154, 76711, 18176, 1057]...   \n",
       "9   2015-06-19          4  {u'weekly_gross': [614396, 227713, 40239, 9785...   \n",
       "\n",
       "   weekly_gross1  num_theaters1  rank1  week_num1  \n",
       "0       36022270           3535      2          1  \n",
       "1          26439              3     61          1  \n",
       "2       45535716           3242      1          1  \n",
       "3         310893             66     24          1  \n",
       "4         440710             90     26          1  \n",
       "5           5359              1     73          1  \n",
       "6        6023852           2341      7          1  \n",
       "7         126154             25    NaN          1  \n",
       "8         614396            146     15          1  \n",
       "9           4944             17     90          1  "
      ]
     },
     "execution_count": 272,
     "metadata": {},
     "output_type": "execute_result"
    }
   ],
   "source": [
    "X.head(10)"
   ]
  },
  {
   "cell_type": "code",
   "execution_count": 225,
   "metadata": {
    "collapsed": false
   },
   "outputs": [
    {
     "name": "stdout",
     "output_type": "stream",
     "text": [
      "[36022270, 3535, 2, 1]\n"
     ]
    }
   ],
   "source": [
    "\n",
    "\n",
    "print [x[0] for x in df.loc[0].weekly_data.values()]"
   ]
  },
  {
   "cell_type": "code",
   "execution_count": 142,
   "metadata": {
    "collapsed": false
   },
   "outputs": [],
   "source": [
    "bins = [i*5 for i in range(12)]"
   ]
  },
  {
   "cell_type": "code",
   "execution_count": 145,
   "metadata": {
    "collapsed": false
   },
   "outputs": [
    {
     "name": "stdout",
     "output_type": "stream",
     "text": [
      "[7063, 4843, 2626, 1218, 491, 178, 73, 28, 13, 7, 0, 0]\n",
      "[0, 5, 10, 15, 20, 25, 30, 35, 40, 45, 50, 55]\n"
     ]
    }
   ],
   "source": [
    "print [len(df[df['num_weeks']>n]) for n in bins]\n",
    "print bins"
   ]
  },
  {
   "cell_type": "code",
   "execution_count": 209,
   "metadata": {
    "collapsed": false
   },
   "outputs": [
    {
     "data": {
      "text/plain": [
       "<matplotlib.axes._subplots.AxesSubplot object at 0x1773400d0>"
      ]
     },
     "execution_count": 209,
     "metadata": {},
     "output_type": "execute_result"
    },
    {
     "data": {
      "image/png": "[encoded data removed]",
      "text/plain": [
       "<matplotlib.figure.Figure object at 0x176f984d0>"
      ]
     },
     "metadata": {},
     "output_type": "display_data"
    }
   ],
   "source": [
    "df.num_weeks.hist(bins=20)"
   ]
  },
  {
   "cell_type": "markdown",
   "metadata": {},
   "source": [
    "this is how you can parse the dollar amounts"
   ]
  },
  {
   "cell_type": "code",
   "execution_count": 146,
   "metadata": {
    "collapsed": false
   },
   "outputs": [],
   "source": [
    "# [int(x.replace('$', '').replace(',', '')) for x in test[0]['weekly_data']['weekly_gross']]"
   ]
  }
 ],
 "metadata": {
  "kernelspec": {
   "display_name": "Python 2",
   "language": "python",
   "name": "python2"
  },
  "language_info": {
   "codemirror_mode": {
    "name": "ipython",
    "version": 2
   },
   "file_extension": ".py",
   "mimetype": "text/x-python",
   "name": "python",
   "nbconvert_exporter": "python",
   "pygments_lexer": "ipython2",
   "version": "2.7.10"
  }
 },
 "nbformat": 4,
 "nbformat_minor": 0
}
